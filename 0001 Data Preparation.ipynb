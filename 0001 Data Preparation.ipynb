{
 "cells": [
  {
   "cell_type": "markdown",
   "metadata": {},
   "source": [
    "# Notebook 0001: Data Preparation\n",
    "\n",
    "This simply takes a CSV version of a processed HMDA file, does some additional formatting and downcasting, and then saves it as a compressed parquet file. The parquet file will be used in subsequent notebooks. \n",
    "\n",
    "_Users do not need to run this notebook_."
   ]
  },
  {
   "cell_type": "code",
   "execution_count": 1,
   "metadata": {
    "pycharm": {
     "name": "#%%\n"
    }
   },
   "outputs": [],
   "source": [
    "import pandas as pd\n",
    "\n",
    "pd.set_option('display.max_columns', None)"
   ]
  },
  {
   "cell_type": "markdown",
   "metadata": {},
   "source": [
    "## Import CSV File"
   ]
  },
  {
   "cell_type": "code",
   "execution_count": 2,
   "metadata": {},
   "outputs": [],
   "source": [
    "df = pd.read_csv('hmda.csv', index_col='Unnamed: 0')\n",
    "df.index.name = 'ID'"
   ]
  },
  {
   "cell_type": "markdown",
   "metadata": {},
   "source": [
    "## Downcasting Float and Integer Columns\n",
    "\n",
    "This is done so that the exported parquet file is as small as possible."
   ]
  },
  {
   "cell_type": "code",
   "execution_count": 3,
   "metadata": {},
   "outputs": [
    {
     "name": "stdout",
     "output_type": "stream",
     "text": [
      "Float Columns:\n",
      "['cv_fold', 'high_priced', 'low_priced', 'interest_rate', 'rate_spread', 'loan_amount', 'loan_to_value_ratio', 'property_value', 'income', 'debt_to_income_ratio', 'term_360', 'conforming', 'state_target_encoded', 'black', 'asian', 'white', 'native_american', 'hawaiian_or_pacific_islander', 'hispanic', 'non_hispanic', 'male', 'female', 'agegte62', 'agelt62']\n",
      "\n",
      "Integer Columns:\n",
      "['no_intro_rate_period', 'intro_rate_period', 'product_type_conventional', 'product_type_fha', 'product_type_fsa_rhs', 'product_type_va']\n",
      "\n",
      "String Colummns:\n",
      "['train', 'debt_to_income_ratio_original', 'state', 'product_type', 'race', 'ethnicity', 'sex']\n"
     ]
    }
   ],
   "source": [
    "float_cols = df.select_dtypes(include=[float]).columns.to_list()\n",
    "print(f\"Float Columns:\\n{float_cols}\")\n",
    "int_cols = df.select_dtypes(include=[int]).columns.to_list()\n",
    "print(f\"\\nInteger Columns:\\n{int_cols}\")\n",
    "str_cols = df.select_dtypes(include=[object]).columns.to_list()\n",
    "print(f\"\\nString Colummns:\\n{str_cols}\")"
   ]
  },
  {
   "cell_type": "code",
   "execution_count": 4,
   "metadata": {},
   "outputs": [],
   "source": [
    "for f_i in float_cols:\n",
    "    df[f_i] = pd.to_numeric(df[f_i], downcast='float')\n",
    "for i_i in int_cols:\n",
    "    df[i_i] = pd.to_numeric(df[i_i], downcast='integer')\n",
    "df = df.drop(columns=['cv_fold', 'high_priced', 'debt_to_income_ratio_original', 'state', 'product_type'])"
   ]
  },
  {
   "cell_type": "markdown",
   "metadata": {},
   "source": [
    "## Format and Clean Group Information"
   ]
  },
  {
   "cell_type": "code",
   "execution_count": 5,
   "metadata": {},
   "outputs": [],
   "source": [
    "group_vars = [\n",
    "    'black', 'asian', 'white', 'native_american', 'hawaiian_or_pacific_islander', \n",
    "    'hispanic', 'non_hispanic', 'male', 'female', 'agegte62', 'agelt62'\n",
    "]\n",
    "renamer = dict(zip(group_vars, [x.replace('_', ' ').title() for x in group_vars]))\n",
    "renamer['non_hispanic'] = 'Non-Hispanic'\n",
    "renamer['agegte62'] = 'Age >= 62'\n",
    "renamer['agelt62'] = 'Age < 62'\n",
    "df = df.rename(columns=renamer)\n",
    "df['Asian'] = df['Asian'] + df['Hawaiian Or Pacific Islander']\n",
    "df = df.rename(columns={'Asian': 'Asian/PI'})\n",
    "df = df.drop(columns=['Hawaiian Or Pacific Islander'])\n",
    "df.loc[df['race'].isin(['Hawaiian or pacific islander', 'Asian']), 'race'] = 'Asian/PI'\n",
    "df.loc[df['race'] == 'Native american', 'race'] = 'Native American'"
   ]
  },
  {
   "cell_type": "markdown",
   "metadata": {},
   "source": [
    "## Save Parquet File For Subsequent Notebooks"
   ]
  },
  {
   "cell_type": "code",
   "execution_count": 6,
   "metadata": {},
   "outputs": [],
   "source": [
    "df.to_parquet('hmda.parquet', compression='zstd', index=True)\n",
    "del df"
   ]
  },
  {
   "cell_type": "markdown",
   "metadata": {},
   "source": [
    "## Validate Export"
   ]
  },
  {
   "cell_type": "code",
   "execution_count": 7,
   "metadata": {},
   "outputs": [
    {
     "data": {
      "text/html": [
       "<div>\n",
       "<style scoped>\n",
       "    .dataframe tbody tr th:only-of-type {\n",
       "        vertical-align: middle;\n",
       "    }\n",
       "\n",
       "    .dataframe tbody tr th {\n",
       "        vertical-align: top;\n",
       "    }\n",
       "\n",
       "    .dataframe thead th {\n",
       "        text-align: right;\n",
       "    }\n",
       "</style>\n",
       "<table border=\"1\" class=\"dataframe\">\n",
       "  <thead>\n",
       "    <tr style=\"text-align: right;\">\n",
       "      <th></th>\n",
       "      <th>train</th>\n",
       "      <th>low_priced</th>\n",
       "      <th>interest_rate</th>\n",
       "      <th>rate_spread</th>\n",
       "      <th>loan_amount</th>\n",
       "      <th>loan_to_value_ratio</th>\n",
       "      <th>no_intro_rate_period</th>\n",
       "      <th>intro_rate_period</th>\n",
       "      <th>property_value</th>\n",
       "      <th>income</th>\n",
       "      <th>debt_to_income_ratio</th>\n",
       "      <th>term_360</th>\n",
       "      <th>conforming</th>\n",
       "      <th>state_target_encoded</th>\n",
       "      <th>product_type_conventional</th>\n",
       "      <th>product_type_fha</th>\n",
       "      <th>product_type_fsa_rhs</th>\n",
       "      <th>product_type_va</th>\n",
       "      <th>Black</th>\n",
       "      <th>Asian/PI</th>\n",
       "      <th>White</th>\n",
       "      <th>Native American</th>\n",
       "      <th>Hispanic</th>\n",
       "      <th>Non-Hispanic</th>\n",
       "      <th>Male</th>\n",
       "      <th>Female</th>\n",
       "      <th>Age &gt;= 62</th>\n",
       "      <th>Age &lt; 62</th>\n",
       "      <th>race</th>\n",
       "      <th>ethnicity</th>\n",
       "      <th>sex</th>\n",
       "    </tr>\n",
       "    <tr>\n",
       "      <th>ID</th>\n",
       "      <th></th>\n",
       "      <th></th>\n",
       "      <th></th>\n",
       "      <th></th>\n",
       "      <th></th>\n",
       "      <th></th>\n",
       "      <th></th>\n",
       "      <th></th>\n",
       "      <th></th>\n",
       "      <th></th>\n",
       "      <th></th>\n",
       "      <th></th>\n",
       "      <th></th>\n",
       "      <th></th>\n",
       "      <th></th>\n",
       "      <th></th>\n",
       "      <th></th>\n",
       "      <th></th>\n",
       "      <th></th>\n",
       "      <th></th>\n",
       "      <th></th>\n",
       "      <th></th>\n",
       "      <th></th>\n",
       "      <th></th>\n",
       "      <th></th>\n",
       "      <th></th>\n",
       "      <th></th>\n",
       "      <th></th>\n",
       "      <th></th>\n",
       "      <th></th>\n",
       "      <th></th>\n",
       "    </tr>\n",
       "  </thead>\n",
       "  <tbody>\n",
       "    <tr>\n",
       "      <th>1875923</th>\n",
       "      <td>valid</td>\n",
       "      <td>1.0</td>\n",
       "      <td>0.05375</td>\n",
       "      <td>0.00753</td>\n",
       "      <td>75000.0</td>\n",
       "      <td>1.0000</td>\n",
       "      <td>1</td>\n",
       "      <td>0</td>\n",
       "      <td>75000.0</td>\n",
       "      <td>36000.0</td>\n",
       "      <td>0.36</td>\n",
       "      <td>1.0</td>\n",
       "      <td>1.0</td>\n",
       "      <td>0.141784</td>\n",
       "      <td>1</td>\n",
       "      <td>0</td>\n",
       "      <td>0</td>\n",
       "      <td>0</td>\n",
       "      <td>0.0</td>\n",
       "      <td>0.0</td>\n",
       "      <td>1.0</td>\n",
       "      <td>0.0</td>\n",
       "      <td>0.0</td>\n",
       "      <td>1.0</td>\n",
       "      <td>1.0</td>\n",
       "      <td>0.0</td>\n",
       "      <td>NaN</td>\n",
       "      <td>NaN</td>\n",
       "      <td>White</td>\n",
       "      <td>Non-Hispanic</td>\n",
       "      <td>Male</td>\n",
       "    </tr>\n",
       "    <tr>\n",
       "      <th>2389403</th>\n",
       "      <td>train</td>\n",
       "      <td>1.0</td>\n",
       "      <td>0.04500</td>\n",
       "      <td>0.00042</td>\n",
       "      <td>285000.0</td>\n",
       "      <td>0.6509</td>\n",
       "      <td>1</td>\n",
       "      <td>0</td>\n",
       "      <td>435000.0</td>\n",
       "      <td>75000.0</td>\n",
       "      <td>0.33</td>\n",
       "      <td>1.0</td>\n",
       "      <td>1.0</td>\n",
       "      <td>0.089620</td>\n",
       "      <td>1</td>\n",
       "      <td>0</td>\n",
       "      <td>0</td>\n",
       "      <td>0</td>\n",
       "      <td>0.0</td>\n",
       "      <td>0.0</td>\n",
       "      <td>1.0</td>\n",
       "      <td>0.0</td>\n",
       "      <td>0.0</td>\n",
       "      <td>1.0</td>\n",
       "      <td>NaN</td>\n",
       "      <td>NaN</td>\n",
       "      <td>1.0</td>\n",
       "      <td>0.0</td>\n",
       "      <td>White</td>\n",
       "      <td>Non-Hispanic</td>\n",
       "      <td>Unknown</td>\n",
       "    </tr>\n",
       "    <tr>\n",
       "      <th>2591428</th>\n",
       "      <td>train</td>\n",
       "      <td>1.0</td>\n",
       "      <td>0.05625</td>\n",
       "      <td>0.01348</td>\n",
       "      <td>55000.0</td>\n",
       "      <td>0.8000</td>\n",
       "      <td>1</td>\n",
       "      <td>0</td>\n",
       "      <td>65000.0</td>\n",
       "      <td>23000.0</td>\n",
       "      <td>0.33</td>\n",
       "      <td>1.0</td>\n",
       "      <td>1.0</td>\n",
       "      <td>0.125738</td>\n",
       "      <td>1</td>\n",
       "      <td>0</td>\n",
       "      <td>0</td>\n",
       "      <td>0</td>\n",
       "      <td>0.0</td>\n",
       "      <td>0.0</td>\n",
       "      <td>1.0</td>\n",
       "      <td>0.0</td>\n",
       "      <td>0.0</td>\n",
       "      <td>1.0</td>\n",
       "      <td>1.0</td>\n",
       "      <td>0.0</td>\n",
       "      <td>1.0</td>\n",
       "      <td>0.0</td>\n",
       "      <td>White</td>\n",
       "      <td>Non-Hispanic</td>\n",
       "      <td>Male</td>\n",
       "    </tr>\n",
       "  </tbody>\n",
       "</table>\n",
       "</div>"
      ],
      "text/plain": [
       "         train  low_priced  interest_rate  rate_spread  loan_amount  \\\n",
       "ID                                                                    \n",
       "1875923  valid         1.0        0.05375      0.00753      75000.0   \n",
       "2389403  train         1.0        0.04500      0.00042     285000.0   \n",
       "2591428  train         1.0        0.05625      0.01348      55000.0   \n",
       "\n",
       "         loan_to_value_ratio  no_intro_rate_period  intro_rate_period  \\\n",
       "ID                                                                      \n",
       "1875923               1.0000                     1                  0   \n",
       "2389403               0.6509                     1                  0   \n",
       "2591428               0.8000                     1                  0   \n",
       "\n",
       "         property_value   income  debt_to_income_ratio  term_360  conforming  \\\n",
       "ID                                                                             \n",
       "1875923         75000.0  36000.0                  0.36       1.0         1.0   \n",
       "2389403        435000.0  75000.0                  0.33       1.0         1.0   \n",
       "2591428         65000.0  23000.0                  0.33       1.0         1.0   \n",
       "\n",
       "         state_target_encoded  product_type_conventional  product_type_fha  \\\n",
       "ID                                                                           \n",
       "1875923              0.141784                          1                 0   \n",
       "2389403              0.089620                          1                 0   \n",
       "2591428              0.125738                          1                 0   \n",
       "\n",
       "         product_type_fsa_rhs  product_type_va  Black  Asian/PI  White  \\\n",
       "ID                                                                       \n",
       "1875923                     0                0    0.0       0.0    1.0   \n",
       "2389403                     0                0    0.0       0.0    1.0   \n",
       "2591428                     0                0    0.0       0.0    1.0   \n",
       "\n",
       "         Native American  Hispanic  Non-Hispanic  Male  Female  Age >= 62  \\\n",
       "ID                                                                          \n",
       "1875923              0.0       0.0           1.0   1.0     0.0        NaN   \n",
       "2389403              0.0       0.0           1.0   NaN     NaN        1.0   \n",
       "2591428              0.0       0.0           1.0   1.0     0.0        1.0   \n",
       "\n",
       "         Age < 62   race     ethnicity      sex  \n",
       "ID                                               \n",
       "1875923       NaN  White  Non-Hispanic     Male  \n",
       "2389403       0.0  White  Non-Hispanic  Unknown  \n",
       "2591428       0.0  White  Non-Hispanic     Male  "
      ]
     },
     "metadata": {},
     "output_type": "display_data"
    }
   ],
   "source": [
    "data = pd.read_parquet('hmda.parquet')\n",
    "display(data.sample(n=3, random_state=161803))"
   ]
  },
  {
   "cell_type": "code",
   "execution_count": null,
   "metadata": {},
   "outputs": [],
   "source": []
  }
 ],
 "metadata": {
  "hide_input": false,
  "kernelspec": {
   "display_name": "cfpb_1",
   "language": "python",
   "name": "python3"
  },
  "language_info": {
   "codemirror_mode": {
    "name": "ipython",
    "version": 3
   },
   "file_extension": ".py",
   "mimetype": "text/x-python",
   "name": "python",
   "nbconvert_exporter": "python",
   "pygments_lexer": "ipython3",
   "version": "3.11.9"
  }
 },
 "nbformat": 4,
 "nbformat_minor": 1
}
