{
 "cells": [
  {
   "cell_type": "code",
   "execution_count": 1,
   "metadata": {},
   "outputs": [],
   "source": [
    "from fairlearn.reductions import DemographicParity, ExponentiatedGradient, UtilityParity\n",
    "import pandas as pd\n",
    "import numpy as np\n",
    "from sklearn.linear_model import LogisticRegression\n",
    "from sklearn import metrics\n",
    "from sklearn.model_selection import train_test_split\n",
    "import solas_disparity as sd\n",
    "np.random.seed(31415)"
   ]
  },
  {
   "cell_type": "code",
   "execution_count": 2,
   "metadata": {},
   "outputs": [
    {
     "data": {
      "text/html": [
       "<div>\n",
       "<style scoped>\n",
       "    .dataframe tbody tr th:only-of-type {\n",
       "        vertical-align: middle;\n",
       "    }\n",
       "\n",
       "    .dataframe tbody tr th {\n",
       "        vertical-align: top;\n",
       "    }\n",
       "\n",
       "    .dataframe thead th {\n",
       "        text-align: right;\n",
       "    }\n",
       "</style>\n",
       "<table border=\"1\" class=\"dataframe\">\n",
       "  <thead>\n",
       "    <tr style=\"text-align: right;\">\n",
       "      <th></th>\n",
       "      <th>x1</th>\n",
       "      <th>x2</th>\n",
       "      <th>x3</th>\n",
       "      <th>x4</th>\n",
       "      <th>x5</th>\n",
       "      <th>minority</th>\n",
       "      <th>e</th>\n",
       "      <th>majority</th>\n",
       "      <th>latent</th>\n",
       "      <th>good</th>\n",
       "      <th>sample_weight</th>\n",
       "    </tr>\n",
       "  </thead>\n",
       "  <tbody>\n",
       "    <tr>\n",
       "      <th>35679</th>\n",
       "      <td>-1.575776</td>\n",
       "      <td>0.024258</td>\n",
       "      <td>0.399403</td>\n",
       "      <td>0.541486</td>\n",
       "      <td>-0.031129</td>\n",
       "      <td>0</td>\n",
       "      <td>-1.510256</td>\n",
       "      <td>1</td>\n",
       "      <td>-1.152013</td>\n",
       "      <td>1</td>\n",
       "      <td>1</td>\n",
       "    </tr>\n",
       "    <tr>\n",
       "      <th>168142</th>\n",
       "      <td>0.769226</td>\n",
       "      <td>-1.286560</td>\n",
       "      <td>-1.169726</td>\n",
       "      <td>-0.828986</td>\n",
       "      <td>0.505077</td>\n",
       "      <td>1</td>\n",
       "      <td>0.889957</td>\n",
       "      <td>0</td>\n",
       "      <td>-0.121013</td>\n",
       "      <td>1</td>\n",
       "      <td>1</td>\n",
       "    </tr>\n",
       "    <tr>\n",
       "      <th>94499</th>\n",
       "      <td>-0.113705</td>\n",
       "      <td>-0.616835</td>\n",
       "      <td>1.678770</td>\n",
       "      <td>-0.233238</td>\n",
       "      <td>-0.075000</td>\n",
       "      <td>0</td>\n",
       "      <td>-1.350180</td>\n",
       "      <td>1</td>\n",
       "      <td>0.289812</td>\n",
       "      <td>0</td>\n",
       "      <td>1</td>\n",
       "    </tr>\n",
       "  </tbody>\n",
       "</table>\n",
       "</div>"
      ],
      "text/plain": [
       "              x1        x2        x3        x4        x5  minority         e  \\\n",
       "35679  -1.575776  0.024258  0.399403  0.541486 -0.031129         0 -1.510256   \n",
       "168142  0.769226 -1.286560 -1.169726 -0.828986  0.505077         1  0.889957   \n",
       "94499  -0.113705 -0.616835  1.678770 -0.233238 -0.075000         0 -1.350180   \n",
       "\n",
       "        majority    latent  good  sample_weight  \n",
       "35679          1 -1.152013     1              1  \n",
       "168142         0 -0.121013     1              1  \n",
       "94499          1  0.289812     0              1  "
      ]
     },
     "execution_count": 2,
     "metadata": {},
     "output_type": "execute_result"
    }
   ],
   "source": [
    "n_obs = 200000\n",
    "x = np.random.randn(n_obs, 5)\n",
    "r = np.random.binomial(1, 0.5, size=n_obs)\n",
    "e = np.random.logistic(size=n_obs)\n",
    "e = e - np.mean(e)\n",
    "data = pd.DataFrame(\n",
    "    data={\n",
    "        \"x1\": x[:, 0],\n",
    "        \"x2\": x[:, 1],\n",
    "        \"x3\": x[:, 2],\n",
    "        \"x4\": x[:, 3],\n",
    "        \"x5\": x[:, 4],\n",
    "        \"minority\": r,\n",
    "        \"e\": e,\n",
    "    }\n",
    ")\n",
    "data.loc[data['minority'] == 1, 'x1'] = data.loc[data['minority'] == 1, 'x1'] + 1\n",
    "data['majority'] = 1 - data['minority']\n",
    "data['latent'] = 1 + data['x1'] + data['x2'] + data['x3'] + data['x4'] + data['x5'] + data['e']\n",
    "data['good'] = np.where(data['latent'] > 0, 0, 1)\n",
    "data['sample_weight'] = 1\n",
    "\n",
    "\n",
    "features = ['x1', 'x2', 'x3', 'x4', 'x5']\n",
    "label = 'good'\n",
    "\n",
    "data.sample(n=3)"
   ]
  },
  {
   "cell_type": "code",
   "execution_count": 3,
   "metadata": {},
   "outputs": [
    {
     "data": {
      "text/html": [
       "<div>\n",
       "<style scoped>\n",
       "    .dataframe tbody tr th:only-of-type {\n",
       "        vertical-align: middle;\n",
       "    }\n",
       "\n",
       "    .dataframe tbody tr th {\n",
       "        vertical-align: top;\n",
       "    }\n",
       "\n",
       "    .dataframe thead th {\n",
       "        text-align: right;\n",
       "    }\n",
       "</style>\n",
       "<table border=\"1\" class=\"dataframe\">\n",
       "  <thead>\n",
       "    <tr style=\"text-align: right;\">\n",
       "      <th>minority</th>\n",
       "      <th>0</th>\n",
       "      <th>1</th>\n",
       "    </tr>\n",
       "    <tr>\n",
       "      <th>good</th>\n",
       "      <th></th>\n",
       "      <th></th>\n",
       "    </tr>\n",
       "  </thead>\n",
       "  <tbody>\n",
       "    <tr>\n",
       "      <th>0</th>\n",
       "      <td>0.638174</td>\n",
       "      <td>0.761222</td>\n",
       "    </tr>\n",
       "    <tr>\n",
       "      <th>1</th>\n",
       "      <td>0.361826</td>\n",
       "      <td>0.238778</td>\n",
       "    </tr>\n",
       "  </tbody>\n",
       "</table>\n",
       "</div>"
      ],
      "text/plain": [
       "minority         0         1\n",
       "good                        \n",
       "0         0.638174  0.761222\n",
       "1         0.361826  0.238778"
      ]
     },
     "execution_count": 3,
     "metadata": {},
     "output_type": "execute_result"
    }
   ],
   "source": [
    "pd.crosstab(data['good'], data['minority'], normalize='columns')"
   ]
  },
  {
   "cell_type": "code",
   "execution_count": 4,
   "metadata": {},
   "outputs": [],
   "source": [
    "train, valid = train_test_split(data, test_size=0.2, random_state=31415)\n",
    "train = train.copy()\n",
    "valid = valid.copy()"
   ]
  },
  {
   "cell_type": "code",
   "execution_count": 5,
   "metadata": {},
   "outputs": [
    {
     "data": {
      "text/html": [
       "<div>\n",
       "<style scoped>\n",
       "    .dataframe tbody tr th:only-of-type {\n",
       "        vertical-align: middle;\n",
       "    }\n",
       "\n",
       "    .dataframe tbody tr th {\n",
       "        vertical-align: top;\n",
       "    }\n",
       "\n",
       "    .dataframe thead th {\n",
       "        text-align: right;\n",
       "    }\n",
       "</style>\n",
       "<table border=\"1\" class=\"dataframe\">\n",
       "  <thead>\n",
       "    <tr style=\"text-align: right;\">\n",
       "      <th></th>\n",
       "      <th>Coefficient</th>\n",
       "    </tr>\n",
       "  </thead>\n",
       "  <tbody>\n",
       "    <tr>\n",
       "      <th>x1</th>\n",
       "      <td>-1.021461</td>\n",
       "    </tr>\n",
       "    <tr>\n",
       "      <th>x2</th>\n",
       "      <td>-1.015294</td>\n",
       "    </tr>\n",
       "    <tr>\n",
       "      <th>x3</th>\n",
       "      <td>-1.008136</td>\n",
       "    </tr>\n",
       "    <tr>\n",
       "      <th>x4</th>\n",
       "      <td>-1.007174</td>\n",
       "    </tr>\n",
       "    <tr>\n",
       "      <th>x5</th>\n",
       "      <td>-1.007324</td>\n",
       "    </tr>\n",
       "    <tr>\n",
       "      <th>intercept</th>\n",
       "      <td>-1.003494</td>\n",
       "    </tr>\n",
       "  </tbody>\n",
       "</table>\n",
       "</div>"
      ],
      "text/plain": [
       "           Coefficient\n",
       "x1           -1.021461\n",
       "x2           -1.015294\n",
       "x3           -1.008136\n",
       "x4           -1.007174\n",
       "x5           -1.007324\n",
       "intercept    -1.003494"
      ]
     },
     "execution_count": 5,
     "metadata": {},
     "output_type": "execute_result"
    }
   ],
   "source": [
    "classifier = LogisticRegression(penalty=None).fit(X=train[features], y=train[label], sample_weight=train['sample_weight'])\n",
    "pd.DataFrame(data=np.append(classifier.coef_, classifier.intercept_), index=features + ['intercept'], columns=['Coefficient'])"
   ]
  },
  {
   "cell_type": "markdown",
   "metadata": {},
   "source": [
    "Fairlearn only allows for .predict(), which uses a 0.50 score cutoff to determine outcomes. This is entirely unrealistic for most real-world use cases -- especially in consumer finance."
   ]
  },
  {
   "cell_type": "code",
   "execution_count": 6,
   "metadata": {},
   "outputs": [],
   "source": [
    "# Note use of .predict() which uses a 0.50 threshold (as opposed to .predict_proba(), which outputs the pseudo-probabilities)\n",
    "train['biased_offer'] = classifier.predict(X=train[features])\n",
    "valid['biased_offer'] = classifier.predict(X=valid[features])\n",
    "\n",
    "train['biased_prediction'] = classifier.predict_proba(X=train[features])[:, 1]\n",
    "valid['biased_prediction'] = classifier.predict_proba(X=valid[features])[:, 1]"
   ]
  },
  {
   "cell_type": "code",
   "execution_count": 7,
   "metadata": {},
   "outputs": [
    {
     "name": "stdout",
     "output_type": "stream",
     "text": [
      "Baseline Model AUC:\n",
      "Training:   0.888\n",
      "Validation: 0.886\n"
     ]
    }
   ],
   "source": [
    "auc_train = metrics.roc_auc_score(train['good'], train['biased_prediction'])\n",
    "auc_valid = metrics.roc_auc_score(valid['good'], valid['biased_prediction'])\n",
    "print(\n",
    "    f\"Baseline Model AUC:\"\n",
    "    f\"\\nTraining:   {auc_train:0.3f}\"\n",
    "    f\"\\nValidation: {auc_valid:0.3f}\"\n",
    ")"
   ]
  },
  {
   "cell_type": "code",
   "execution_count": 8,
   "metadata": {},
   "outputs": [
    {
     "data": {
      "text/html": [
       "<div>\n",
       "<style scoped>\n",
       "    .dataframe tbody tr th:only-of-type {\n",
       "        vertical-align: middle;\n",
       "    }\n",
       "\n",
       "    .dataframe tbody tr th {\n",
       "        vertical-align: top;\n",
       "    }\n",
       "\n",
       "    .dataframe thead th {\n",
       "        text-align: right;\n",
       "    }\n",
       "</style>\n",
       "<table class=\"dataframe disparity-table\" id=\"disp-output\">\n",
       "  <thead>\n",
       "    <tr style=\"text-align: right;\">\n",
       "      <th>Group</th>\n",
       "      <th>Percent Favorable</th>\n",
       "      <th>Percent Difference Favorable</th>\n",
       "      <th>AIR</th>\n",
       "      <th>P-Values</th>\n",
       "    </tr>\n",
       "  </thead>\n",
       "  <tbody>\n",
       "    <tr>\n",
       "      <td>minority</td>\n",
       "      <td>18.27%</td>\n",
       "      <td>14.78%</td>\n",
       "      <td>0.553</td>\n",
       "      <td>0.000</td>\n",
       "    </tr>\n",
       "    <tr>\n",
       "      <td>majority</td>\n",
       "      <td>33.04%</td>\n",
       "      <td></td>\n",
       "      <td></td>\n",
       "      <td></td>\n",
       "    </tr>\n",
       "  </tbody>\n",
       "</table>\n",
       "</div>"
      ],
      "text/plain": [
       "<IPython.core.display.HTML object>"
      ]
     },
     "metadata": {},
     "output_type": "display_data"
    }
   ],
   "source": [
    "baseline_air = sd.adverse_impact_ratio(\n",
    "    group_data=valid,\n",
    "    protected_groups=['minority'],\n",
    "    reference_groups=['majority'],\n",
    "    group_categories=['race'],\n",
    "    outcome=valid['biased_offer'],\n",
    "    air_threshold=0.90,\n",
    "    percent_difference_threshold=0.00,\n",
    ")\n",
    "sd.ui.show(baseline_air.summary_table[['Percent Favorable', 'Percent Difference Favorable', 'AIR', 'P-Values']])"
   ]
  },
  {
   "cell_type": "code",
   "execution_count": 9,
   "metadata": {},
   "outputs": [
    {
     "data": {
      "text/html": [
       "<div>\n",
       "<style scoped>\n",
       "    .dataframe tbody tr th:only-of-type {\n",
       "        vertical-align: middle;\n",
       "    }\n",
       "\n",
       "    .dataframe tbody tr th {\n",
       "        vertical-align: top;\n",
       "    }\n",
       "\n",
       "    .dataframe thead th {\n",
       "        text-align: right;\n",
       "    }\n",
       "</style>\n",
       "<table border=\"1\" class=\"dataframe\">\n",
       "  <thead>\n",
       "    <tr style=\"text-align: right;\">\n",
       "      <th></th>\n",
       "      <th>Coefficient</th>\n",
       "    </tr>\n",
       "  </thead>\n",
       "  <tbody>\n",
       "    <tr>\n",
       "      <th>x2</th>\n",
       "      <td>-0.840788</td>\n",
       "    </tr>\n",
       "    <tr>\n",
       "      <th>x3</th>\n",
       "      <td>-0.833994</td>\n",
       "    </tr>\n",
       "    <tr>\n",
       "      <th>x4</th>\n",
       "      <td>-0.831966</td>\n",
       "    </tr>\n",
       "    <tr>\n",
       "      <th>x5</th>\n",
       "      <td>-0.824482</td>\n",
       "    </tr>\n",
       "    <tr>\n",
       "      <th>Intercept</th>\n",
       "      <td>-1.244980</td>\n",
       "    </tr>\n",
       "  </tbody>\n",
       "</table>\n",
       "</div>"
      ],
      "text/plain": [
       "           Coefficient\n",
       "x2           -0.840788\n",
       "x3           -0.833994\n",
       "x4           -0.831966\n",
       "x5           -0.824482\n",
       "Intercept    -1.244980"
      ]
     },
     "metadata": {},
     "output_type": "display_data"
    },
    {
     "name": "stdout",
     "output_type": "stream",
     "text": [
      "\n",
      "Dropped Variable Model AUC:\n",
      "Training:   0.835\n",
      "Validation: 0.832\n"
     ]
    }
   ],
   "source": [
    "drop_var = LogisticRegression(penalty=None).fit(X=train[['x2', 'x3', 'x4', 'x5']], y=train[label], sample_weight=train['sample_weight'])\n",
    "display(pd.DataFrame(data=np.append(drop_var.coef_, drop_var.intercept_), index=np.append(drop_var.feature_names_in_, 'Intercept'), columns=['Coefficient']))\n",
    "\n",
    "train['drop_var_offer'] = drop_var.predict(X=train[['x2', 'x3', 'x4', 'x5']])\n",
    "valid['drop_var_offer'] = drop_var.predict(X=valid[['x2', 'x3', 'x4', 'x5']])\n",
    "\n",
    "\n",
    "train['drop_var_prediction'] = drop_var.predict_proba(X=train[['x2', 'x3', 'x4', 'x5']])[:, 1]\n",
    "valid['drop_var_prediction'] = drop_var.predict_proba(X=valid[['x2', 'x3', 'x4', 'x5']])[:, 1]\n",
    "\n",
    "auc_train = metrics.roc_auc_score(train['good'], train['drop_var_prediction'])\n",
    "auc_valid = metrics.roc_auc_score(valid['good'], valid['drop_var_prediction'])\n",
    "print(\n",
    "    f\"\\nDropped Variable Model AUC:\"\n",
    "    f\"\\nTraining:   {auc_train:0.3f}\"\n",
    "    f\"\\nValidation: {auc_valid:0.3f}\"\n",
    ")"
   ]
  },
  {
   "cell_type": "code",
   "execution_count": 10,
   "metadata": {},
   "outputs": [
    {
     "data": {
      "text/html": [
       "<div>\n",
       "<style scoped>\n",
       "    .dataframe tbody tr th:only-of-type {\n",
       "        vertical-align: middle;\n",
       "    }\n",
       "\n",
       "    .dataframe tbody tr th {\n",
       "        vertical-align: top;\n",
       "    }\n",
       "\n",
       "    .dataframe thead th {\n",
       "        text-align: right;\n",
       "    }\n",
       "</style>\n",
       "<table class=\"dataframe disparity-table\" id=\"disp-output\">\n",
       "  <thead>\n",
       "    <tr style=\"text-align: right;\">\n",
       "      <th>Group</th>\n",
       "      <th>Percent Favorable</th>\n",
       "      <th>Percent Difference Favorable</th>\n",
       "      <th>AIR</th>\n",
       "      <th>P-Values</th>\n",
       "    </tr>\n",
       "  </thead>\n",
       "  <tbody>\n",
       "    <tr>\n",
       "      <td>minority</td>\n",
       "      <td>22.03%</td>\n",
       "      <td>0.35%</td>\n",
       "      <td>0.984</td>\n",
       "      <td>0.403</td>\n",
       "    </tr>\n",
       "    <tr>\n",
       "      <td>majority</td>\n",
       "      <td>22.38%</td>\n",
       "      <td></td>\n",
       "      <td></td>\n",
       "      <td></td>\n",
       "    </tr>\n",
       "  </tbody>\n",
       "</table>\n",
       "</div>"
      ],
      "text/plain": [
       "<IPython.core.display.HTML object>"
      ]
     },
     "metadata": {},
     "output_type": "display_data"
    }
   ],
   "source": [
    "drop_var_air = sd.adverse_impact_ratio(\n",
    "    group_data=valid,\n",
    "    protected_groups=['minority'],\n",
    "    reference_groups=['majority'],\n",
    "    group_categories=['race'],\n",
    "    outcome=valid['drop_var_offer'],\n",
    "    air_threshold=0.90,\n",
    "    percent_difference_threshold=0.00,\n",
    ")\n",
    "sd.ui.show(drop_var_air.summary_table[['Percent Favorable', 'Percent Difference Favorable', 'AIR', 'P-Values']])"
   ]
  },
  {
   "cell_type": "code",
   "execution_count": 11,
   "metadata": {},
   "outputs": [
    {
     "data": {
      "text/plain": [
       "8"
      ]
     },
     "execution_count": 11,
     "metadata": {},
     "output_type": "execute_result"
    }
   ],
   "source": [
    "constraints = DemographicParity(ratio_bound=0.90)\n",
    "mitigator = ExponentiatedGradient(\n",
    "    estimator=classifier,\n",
    "    constraints=constraints,\n",
    "    max_iter=1000,\n",
    "    eps=0.001,\n",
    "    eta0=0.01,\n",
    ")\n",
    "mitigator.fit(train[features], train[label], sensitive_features=train['minority'])\n",
    "mitigator.best_iter_"
   ]
  },
  {
   "cell_type": "code",
   "execution_count": 12,
   "metadata": {},
   "outputs": [],
   "source": [
    "train['debiased_offer'] = mitigator.predict(train[features])\n",
    "valid['debiased_offer'] = mitigator.predict(valid[features])"
   ]
  },
  {
   "cell_type": "code",
   "execution_count": 13,
   "metadata": {},
   "outputs": [
    {
     "data": {
      "text/plain": [
       "sign  event  group_id\n",
       "+     all    0           0.025426\n",
       "             1          -0.085683\n",
       "-     all    0          -0.091698\n",
       "             1           0.031757\n",
       "dtype: float64"
      ]
     },
     "execution_count": 13,
     "metadata": {},
     "output_type": "execute_result"
    }
   ],
   "source": [
    "# sign is whether you're adding or subtracting from the class (group_id)\n",
    "mitigator.constraints.gamma(lambda x: train['biased_prediction'].values)"
   ]
  },
  {
   "cell_type": "code",
   "execution_count": 14,
   "metadata": {},
   "outputs": [
    {
     "data": {
      "text/html": [
       "<div>\n",
       "<style scoped>\n",
       "    .dataframe tbody tr th:only-of-type {\n",
       "        vertical-align: middle;\n",
       "    }\n",
       "\n",
       "    .dataframe tbody tr th {\n",
       "        vertical-align: top;\n",
       "    }\n",
       "\n",
       "    .dataframe thead th {\n",
       "        text-align: right;\n",
       "    }\n",
       "</style>\n",
       "<table class=\"dataframe disparity-table\" id=\"disp-output\">\n",
       "  <thead>\n",
       "    <tr style=\"text-align: right;\">\n",
       "      <th>Group</th>\n",
       "      <th>Percent Favorable</th>\n",
       "      <th>Percent Difference Favorable</th>\n",
       "      <th>AIR</th>\n",
       "      <th>P-Values</th>\n",
       "    </tr>\n",
       "  </thead>\n",
       "  <tbody>\n",
       "    <tr>\n",
       "      <td>minority</td>\n",
       "      <td>22.43%</td>\n",
       "      <td>5.39%</td>\n",
       "      <td>0.806</td>\n",
       "      <td>0.000</td>\n",
       "    </tr>\n",
       "    <tr>\n",
       "      <td>majority</td>\n",
       "      <td>27.82%</td>\n",
       "      <td></td>\n",
       "      <td></td>\n",
       "      <td></td>\n",
       "    </tr>\n",
       "  </tbody>\n",
       "</table>\n",
       "</div>"
      ],
      "text/plain": [
       "<IPython.core.display.HTML object>"
      ]
     },
     "metadata": {},
     "output_type": "display_data"
    }
   ],
   "source": [
    "debiased_air = sd.adverse_impact_ratio(\n",
    "    group_data=valid,\n",
    "    protected_groups=['minority'],\n",
    "    reference_groups=['majority'],\n",
    "    group_categories=['race'],\n",
    "    outcome=valid['debiased_offer'],\n",
    "    air_threshold=0.90,\n",
    "    percent_difference_threshold=0.00,\n",
    ")\n",
    "sd.ui.show(debiased_air.summary_table[['Percent Favorable', 'Percent Difference Favorable', 'AIR', 'P-Values']])"
   ]
  },
  {
   "cell_type": "code",
   "execution_count": 15,
   "metadata": {},
   "outputs": [],
   "source": [
    "def precision_recall(pr_data, group):\n",
    "    print(\n",
    "        f\"\\n{group}: Offers at 0.50 Score Cutoff\"\n",
    "        f\"\\n\\nOriginal Model Offers\"\n",
    "        f\"\\nRecall:    {metrics.recall_score(y_pred=pr_data['biased_offer'], y_true=pr_data['good'], sample_weight=pr_data['sample_weight']):0.4f}\"\n",
    "        f\"\\nPrecision: {metrics.precision_score(y_pred=pr_data['biased_offer'], y_true=pr_data['good'], sample_weight=pr_data['sample_weight']):0.4f}\"\n",
    "\n",
    "        f\"\\n\\nDropped-Variable Model Offers\"\n",
    "        f\"\\nRecall:    {metrics.recall_score(y_pred=pr_data['drop_var_offer'], y_true=pr_data['good'], sample_weight=pr_data['sample_weight']):0.4f}\"\n",
    "        f\"\\nPrecision: {metrics.precision_score(y_pred=pr_data['drop_var_offer'], y_true=pr_data['good'], sample_weight=pr_data['sample_weight']):0.4f}\"\n",
    "\n",
    "        f\"\\n\\nFairlearn Debiased Model Offers\"\n",
    "        f\"\\nRecall:    {metrics.recall_score(y_pred=pr_data['debiased_offer'], y_true=pr_data['good'], sample_weight=pr_data['sample_weight']):0.4f}\"\n",
    "        f\"\\nPrecision: {metrics.precision_score(y_pred=pr_data['debiased_offer'], y_true=pr_data['good'], sample_weight=pr_data['sample_weight']):0.4f}\"\n",
    "    )"
   ]
  },
  {
   "cell_type": "code",
   "execution_count": 16,
   "metadata": {},
   "outputs": [
    {
     "name": "stdout",
     "output_type": "stream",
     "text": [
      "\n",
      "All Observations: Offers at 0.50 Score Cutoff\n",
      "\n",
      "Original Model Offers\n",
      "Recall:    0.6391\n",
      "Precision: 0.7469\n",
      "\n",
      "Dropped-Variable Model Offers\n",
      "Recall:    0.5137\n",
      "Precision: 0.6929\n",
      "\n",
      "Fairlearn Debiased Model Offers\n",
      "Recall:    0.5971\n",
      "Precision: 0.7121\n"
     ]
    }
   ],
   "source": [
    "precision_recall(valid, 'All Observations') "
   ]
  },
  {
   "cell_type": "code",
   "execution_count": 17,
   "metadata": {},
   "outputs": [
    {
     "name": "stdout",
     "output_type": "stream",
     "text": [
      "\n",
      "Minority Observations: Offers at 0.50 Score Cutoff\n",
      "\n",
      "Original Model Offers\n",
      "Recall:    0.5604\n",
      "Precision: 0.7302\n",
      "\n",
      "Dropped-Variable Model Offers\n",
      "Recall:    0.5637\n",
      "Precision: 0.6091\n",
      "\n",
      "Fairlearn Debiased Model Offers\n",
      "Recall:    0.6088\n",
      "Precision: 0.6461\n"
     ]
    }
   ],
   "source": [
    "precision_recall(valid.loc[valid['minority'] == 1, :], 'Minority Observations')"
   ]
  },
  {
   "cell_type": "code",
   "execution_count": 18,
   "metadata": {},
   "outputs": [
    {
     "name": "stdout",
     "output_type": "stream",
     "text": [
      "\n",
      "Non-Minority Observations: Offers at 0.50 Score Cutoff\n",
      "\n",
      "Original Model Offers\n",
      "Recall:    0.6912\n",
      "Precision: 0.7561\n",
      "\n",
      "Dropped-Variable Model Offers\n",
      "Recall:    0.4805\n",
      "Precision: 0.7760\n",
      "\n",
      "Fairlearn Debiased Model Offers\n",
      "Recall:    0.5893\n",
      "Precision: 0.7657\n"
     ]
    }
   ],
   "source": [
    "precision_recall(valid.loc[valid['minority'] == 0, :], 'Non-Minority Observations')"
   ]
  },
  {
   "cell_type": "code",
   "execution_count": null,
   "metadata": {},
   "outputs": [],
   "source": []
  }
 ],
 "metadata": {
  "kernelspec": {
   "display_name": "fairlearn",
   "language": "python",
   "name": "python3"
  },
  "language_info": {
   "codemirror_mode": {
    "name": "ipython",
    "version": 3
   },
   "file_extension": ".py",
   "mimetype": "text/x-python",
   "name": "python",
   "nbconvert_exporter": "python",
   "pygments_lexer": "ipython3",
   "version": "3.11.9"
  }
 },
 "nbformat": 4,
 "nbformat_minor": 2
}
