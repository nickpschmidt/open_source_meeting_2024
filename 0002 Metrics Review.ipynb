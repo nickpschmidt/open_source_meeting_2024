{
 "cells": [
  {
   "cell_type": "code",
   "execution_count": 1,
   "metadata": {
    "pycharm": {
     "name": "#%%\n"
    }
   },
   "outputs": [],
   "source": [
    "import numpy as np\n",
    "import pandas as pd\n",
    "import aif360\n",
    "import solas_disparity as sd\n",
    "\n",
    "pd.set_option('display.max_columns', None)\n",
    "np.random.seed(31415)"
   ]
  },
  {
   "cell_type": "code",
   "execution_count": 2,
   "metadata": {},
   "outputs": [
    {
     "data": {
      "text/html": [
       "<div>\n",
       "<style scoped>\n",
       "    .dataframe tbody tr th:only-of-type {\n",
       "        vertical-align: middle;\n",
       "    }\n",
       "\n",
       "    .dataframe tbody tr th {\n",
       "        vertical-align: top;\n",
       "    }\n",
       "\n",
       "    .dataframe thead th {\n",
       "        text-align: right;\n",
       "    }\n",
       "</style>\n",
       "<table border=\"1\" class=\"dataframe\">\n",
       "  <thead>\n",
       "    <tr style=\"text-align: right;\">\n",
       "      <th></th>\n",
       "      <th>low_priced</th>\n",
       "      <th>interest_rate</th>\n",
       "      <th>rate_spread</th>\n",
       "      <th>loan_amount</th>\n",
       "      <th>loan_to_value_ratio</th>\n",
       "      <th>no_intro_rate_period</th>\n",
       "      <th>intro_rate_period</th>\n",
       "      <th>property_value</th>\n",
       "      <th>income</th>\n",
       "      <th>debt_to_income_ratio</th>\n",
       "      <th>term_360</th>\n",
       "      <th>conforming</th>\n",
       "      <th>state_target_encoded</th>\n",
       "      <th>product_type_conventional</th>\n",
       "      <th>product_type_fha</th>\n",
       "      <th>product_type_fsa_rhs</th>\n",
       "      <th>product_type_va</th>\n",
       "      <th>Black</th>\n",
       "      <th>Asian/PI</th>\n",
       "      <th>White</th>\n",
       "      <th>Native American</th>\n",
       "      <th>Hispanic</th>\n",
       "      <th>Non-Hispanic</th>\n",
       "      <th>Male</th>\n",
       "      <th>Female</th>\n",
       "      <th>Age &gt;= 62</th>\n",
       "      <th>Age &lt; 62</th>\n",
       "      <th>race</th>\n",
       "      <th>ethnicity</th>\n",
       "      <th>sex</th>\n",
       "    </tr>\n",
       "    <tr>\n",
       "      <th>ID</th>\n",
       "      <th></th>\n",
       "      <th></th>\n",
       "      <th></th>\n",
       "      <th></th>\n",
       "      <th></th>\n",
       "      <th></th>\n",
       "      <th></th>\n",
       "      <th></th>\n",
       "      <th></th>\n",
       "      <th></th>\n",
       "      <th></th>\n",
       "      <th></th>\n",
       "      <th></th>\n",
       "      <th></th>\n",
       "      <th></th>\n",
       "      <th></th>\n",
       "      <th></th>\n",
       "      <th></th>\n",
       "      <th></th>\n",
       "      <th></th>\n",
       "      <th></th>\n",
       "      <th></th>\n",
       "      <th></th>\n",
       "      <th></th>\n",
       "      <th></th>\n",
       "      <th></th>\n",
       "      <th></th>\n",
       "      <th></th>\n",
       "      <th></th>\n",
       "      <th></th>\n",
       "    </tr>\n",
       "  </thead>\n",
       "  <tbody>\n",
       "    <tr>\n",
       "      <th>2695605</th>\n",
       "      <td>1.0</td>\n",
       "      <td>0.03875</td>\n",
       "      <td>0.00143</td>\n",
       "      <td>375000.0</td>\n",
       "      <td>0.95</td>\n",
       "      <td>1</td>\n",
       "      <td>0</td>\n",
       "      <td>395000.0</td>\n",
       "      <td>227000.0</td>\n",
       "      <td>0.33</td>\n",
       "      <td>1.0</td>\n",
       "      <td>1.0</td>\n",
       "      <td>0.090457</td>\n",
       "      <td>1</td>\n",
       "      <td>0</td>\n",
       "      <td>0</td>\n",
       "      <td>0</td>\n",
       "      <td>NaN</td>\n",
       "      <td>NaN</td>\n",
       "      <td>NaN</td>\n",
       "      <td>NaN</td>\n",
       "      <td>NaN</td>\n",
       "      <td>NaN</td>\n",
       "      <td>NaN</td>\n",
       "      <td>NaN</td>\n",
       "      <td>0.0</td>\n",
       "      <td>1.0</td>\n",
       "      <td>Unknown</td>\n",
       "      <td>Unknown</td>\n",
       "      <td>Unknown</td>\n",
       "    </tr>\n",
       "    <tr>\n",
       "      <th>4962145</th>\n",
       "      <td>1.0</td>\n",
       "      <td>0.03875</td>\n",
       "      <td>-0.00005</td>\n",
       "      <td>225000.0</td>\n",
       "      <td>1.00</td>\n",
       "      <td>1</td>\n",
       "      <td>0</td>\n",
       "      <td>225000.0</td>\n",
       "      <td>68000.0</td>\n",
       "      <td>0.33</td>\n",
       "      <td>1.0</td>\n",
       "      <td>1.0</td>\n",
       "      <td>0.043440</td>\n",
       "      <td>0</td>\n",
       "      <td>0</td>\n",
       "      <td>0</td>\n",
       "      <td>1</td>\n",
       "      <td>1.0</td>\n",
       "      <td>0.0</td>\n",
       "      <td>0.0</td>\n",
       "      <td>0.0</td>\n",
       "      <td>0.0</td>\n",
       "      <td>1.0</td>\n",
       "      <td>1.0</td>\n",
       "      <td>0.0</td>\n",
       "      <td>NaN</td>\n",
       "      <td>NaN</td>\n",
       "      <td>Black</td>\n",
       "      <td>Non-Hispanic</td>\n",
       "      <td>Male</td>\n",
       "    </tr>\n",
       "    <tr>\n",
       "      <th>4044205</th>\n",
       "      <td>1.0</td>\n",
       "      <td>0.04880</td>\n",
       "      <td>0.00886</td>\n",
       "      <td>275000.0</td>\n",
       "      <td>0.95</td>\n",
       "      <td>1</td>\n",
       "      <td>0</td>\n",
       "      <td>295000.0</td>\n",
       "      <td>144000.0</td>\n",
       "      <td>0.49</td>\n",
       "      <td>1.0</td>\n",
       "      <td>1.0</td>\n",
       "      <td>0.065950</td>\n",
       "      <td>1</td>\n",
       "      <td>0</td>\n",
       "      <td>0</td>\n",
       "      <td>0</td>\n",
       "      <td>0.0</td>\n",
       "      <td>0.0</td>\n",
       "      <td>1.0</td>\n",
       "      <td>0.0</td>\n",
       "      <td>0.0</td>\n",
       "      <td>1.0</td>\n",
       "      <td>NaN</td>\n",
       "      <td>NaN</td>\n",
       "      <td>0.0</td>\n",
       "      <td>1.0</td>\n",
       "      <td>White</td>\n",
       "      <td>Non-Hispanic</td>\n",
       "      <td>Unknown</td>\n",
       "    </tr>\n",
       "  </tbody>\n",
       "</table>\n",
       "</div>"
      ],
      "text/plain": [
       "         low_priced  interest_rate  rate_spread  loan_amount  \\\n",
       "ID                                                             \n",
       "2695605         1.0        0.03875      0.00143     375000.0   \n",
       "4962145         1.0        0.03875     -0.00005     225000.0   \n",
       "4044205         1.0        0.04880      0.00886     275000.0   \n",
       "\n",
       "         loan_to_value_ratio  no_intro_rate_period  intro_rate_period  \\\n",
       "ID                                                                      \n",
       "2695605                 0.95                     1                  0   \n",
       "4962145                 1.00                     1                  0   \n",
       "4044205                 0.95                     1                  0   \n",
       "\n",
       "         property_value    income  debt_to_income_ratio  term_360  conforming  \\\n",
       "ID                                                                              \n",
       "2695605        395000.0  227000.0                  0.33       1.0         1.0   \n",
       "4962145        225000.0   68000.0                  0.33       1.0         1.0   \n",
       "4044205        295000.0  144000.0                  0.49       1.0         1.0   \n",
       "\n",
       "         state_target_encoded  product_type_conventional  product_type_fha  \\\n",
       "ID                                                                           \n",
       "2695605              0.090457                          1                 0   \n",
       "4962145              0.043440                          0                 0   \n",
       "4044205              0.065950                          1                 0   \n",
       "\n",
       "         product_type_fsa_rhs  product_type_va  Black  Asian/PI  White  \\\n",
       "ID                                                                       \n",
       "2695605                     0                0    NaN       NaN    NaN   \n",
       "4962145                     0                1    1.0       0.0    0.0   \n",
       "4044205                     0                0    0.0       0.0    1.0   \n",
       "\n",
       "         Native American  Hispanic  Non-Hispanic  Male  Female  Age >= 62  \\\n",
       "ID                                                                          \n",
       "2695605              NaN       NaN           NaN   NaN     NaN        0.0   \n",
       "4962145              0.0       0.0           1.0   1.0     0.0        NaN   \n",
       "4044205              0.0       0.0           1.0   NaN     NaN        0.0   \n",
       "\n",
       "         Age < 62     race     ethnicity      sex  \n",
       "ID                                                 \n",
       "2695605       1.0  Unknown       Unknown  Unknown  \n",
       "4962145       NaN    Black  Non-Hispanic     Male  \n",
       "4044205       1.0    White  Non-Hispanic  Unknown  "
      ]
     },
     "metadata": {},
     "output_type": "display_data"
    },
    {
     "name": "stdout",
     "output_type": "stream",
     "text": [
      "Number of Observations: Training: 240,510; Validation: 59,490\n"
     ]
    }
   ],
   "source": [
    "data = pd.read_parquet('hmda.parquet')\n",
    "train = data.loc[data['train'] == 'train', :].copy().drop(columns=['train'])\n",
    "valid = data.loc[data['train'] == 'valid', :].copy().drop(columns=['train'])\n",
    "del data\n",
    "display(train.sample(n=3, random_state=161803))\n",
    "print(f\"Number of Observations: Training: {train.shape[0]:,.0f}; Validation: {valid.shape[0]:,.0f}\")\n",
    "# train.groupby(label)['rate_spread'].agg(['min', 'max'])"
   ]
  },
  {
   "cell_type": "code",
   "execution_count": 3,
   "metadata": {},
   "outputs": [],
   "source": [
    "label = 'low_priced'\n",
    "features = [\n",
    "    'loan_amount', 'loan_to_value_ratio', 'no_intro_rate_period', 'intro_rate_period',\n",
    "    'property_value', 'income', 'debt_to_income_ratio', 'term_360', 'conforming',\n",
    "    'state_target_encoded', 'product_type_conventional', 'product_type_fha',\n",
    "    'product_type_fsa_rhs', 'product_type_va'\n",
    "]"
   ]
  },
  {
   "cell_type": "code",
   "execution_count": 4,
   "metadata": {},
   "outputs": [
    {
     "name": "stdout",
     "output_type": "stream",
     "text": [
      "product_type_fha            -1\n",
      "loan_to_value_ratio         -1\n",
      "debt_to_income_ratio        -1\n",
      "state_target_encoded        -1\n",
      "conforming                   0\n",
      "term_360                     0\n",
      "no_intro_rate_period         0\n",
      "intro_rate_period            0\n",
      "product_type_fsa_rhs         0\n",
      "product_type_va              1\n",
      "income                       1\n",
      "loan_amount                  1\n",
      "property_value               1\n",
      "product_type_conventional    1\n",
      "dtype: int64\n"
     ]
    }
   ],
   "source": [
    "feature_to_label_corr = train[features].corrwith(other=train[label], method='spearman').sort_values()\n",
    "monotonic_constraints = pd.Series(index=feature_to_label_corr.index, data=0)\n",
    "monotonic_constraints[feature_to_label_corr >= 0.1] = 1\n",
    "monotonic_constraints[feature_to_label_corr <= -0.1] = -1\n",
    "print(monotonic_constraints)\n",
    "monotonic_constraints = monotonic_constraints.to_dict()"
   ]
  },
  {
   "cell_type": "code",
   "execution_count": 5,
   "metadata": {
    "pycharm": {
     "name": "#%%\n"
    }
   },
   "outputs": [
    {
     "name": "stdout",
     "output_type": "stream",
     "text": [
      "[0]\tvalidation_0-auc:0.87450\tvalidation_1-auc:0.87343\n",
      "[100]\tvalidation_0-auc:0.90053\tvalidation_1-auc:0.90031\n",
      "[200]\tvalidation_0-auc:0.90344\tvalidation_1-auc:0.90297\n",
      "[284]\tvalidation_0-auc:0.90388\tvalidation_1-auc:0.90327\n"
     ]
    },
    {
     "name": "stderr",
     "output_type": "stream",
     "text": [
      "c:\\Users\\nickp\\anaconda3\\envs\\cfpb_1\\Lib\\site-packages\\xgboost\\core.py:158: UserWarning: [11:20:28] WARNING: C:\\buildkite-agent\\builds\\buildkite-windows-cpu-autoscaling-group-i-06abd128ca6c1688d-1\\xgboost\\xgboost-ci-windows\\src\\common\\error_msg.cc:58: Falling back to prediction using DMatrix due to mismatched devices. This might lead to higher memory usage and slower performance. XGBoost is running on: cuda:0, while the input data is on: cpu.\n",
      "Potential solutions:\n",
      "- Use a data structure that matches the device ordinal in the booster.\n",
      "- Set the device for booster before call to inplace_predict.\n",
      "\n",
      "This warning will only be shown once.\n",
      "\n",
      "  warnings.warn(smsg, UserWarning)\n"
     ]
    }
   ],
   "source": [
    "# %%capture\n",
    "import xgboost as xgb\n",
    "\n",
    "params = {\n",
    "    'n_estimators': 750,\n",
    "    'eval_metric': 'auc',\n",
    "    'random_state': 31415,\n",
    "    'device': 'gpu',\n",
    "    'tree_method': 'hist',\n",
    "    'early_stopping_rounds': 10,\n",
    "    'learning_rate': 0.05,\n",
    "    'max_depth': 5,\n",
    "    'monotone_constraints': monotonic_constraints,\n",
    "}\n",
    "eval_set = [(train[features], train[label]), (valid[features], valid[label])]\n",
    "\n",
    "\n",
    "xgb_model = xgb.XGBClassifier(\n",
    "    **params,\n",
    ").fit(\n",
    "    X=train[features], \n",
    "    y=train[label],\n",
    "    eval_set=eval_set,\n",
    "    verbose=100,\n",
    ")\n",
    "train['Prediction'] = xgb_model.predict_proba(X=train[features])[:, 1]\n",
    "valid['Prediction'] = xgb_model.predict_proba(X=valid[features])[:, 1]\n"
   ]
  },
  {
   "cell_type": "code",
   "execution_count": 6,
   "metadata": {
    "pycharm": {
     "name": "#%%\n"
    }
   },
   "outputs": [
    {
     "name": "stdout",
     "output_type": "stream",
     "text": [
      "\n",
      "Training and Validation Set AUCs:  0.9039,  0.9033\n",
      "Percent Drop in AUC: Training to Validation: -0.064%\n"
     ]
    }
   ],
   "source": [
    "from sklearn import metrics\n",
    "\n",
    "xgb_auc_train = metrics.roc_auc_score(y_true=train[label], y_score=train['Prediction'])\n",
    "xgb_auc_valid = metrics.roc_auc_score(y_true=valid[label], y_score=valid['Prediction'])\n",
    "print(\n",
    "    f\"\\nTraining and Validation Set AUCs: {xgb_auc_train: 0.4f}, {xgb_auc_valid: 0.4f}\"\n",
    "    f\"\\nPercent Drop in AUC: Training to Validation: {xgb_auc_valid / xgb_auc_train -1:0.3%}\"\n",
    ")"
   ]
  },
  {
   "cell_type": "code",
   "execution_count": 7,
   "metadata": {},
   "outputs": [
    {
     "name": "stdout",
     "output_type": "stream",
     "text": [
      "True     0.600034\n",
      "False    0.399966\n",
      "Name: Low-Priced Offer, dtype: float64\n"
     ]
    }
   ],
   "source": [
    "percent_offer = 0.6\n",
    "offer_cutoff = train['Prediction'].quantile(1 - percent_offer)\n",
    "train['Low-Priced Offer'] = train['Prediction'] > offer_cutoff\n",
    "valid['Low-Priced Offer'] = valid['Prediction'] > offer_cutoff\n",
    "print(valid['Low-Priced Offer'].value_counts(dropna=False, normalize=True))\n"
   ]
  },
  {
   "cell_type": "code",
   "execution_count": 8,
   "metadata": {},
   "outputs": [],
   "source": [
    "# train_race_not_missing = train.loc[train['black'].notna(), :]\n",
    "# valid_race_not_missing = valid.loc[valid['black'].notna(), :]\n",
    "# print(f\"Percent Reduction in Data Size Due to Missing Race: {len(train_race_not_missing) / len(train) - 1:0.1%}\")"
   ]
  },
  {
   "cell_type": "markdown",
   "metadata": {
    "pycharm": {
     "name": "#%% md\n"
    }
   },
   "source": [
    "\n",
    "### Measuring Group Fairness Using `Aequitas`\n",
    "\n",
    "Aequitas is a well-developed and maintained fairness auditing package developed by academics at the Center for Data Science and Public Policy and the University of Chicago.  Aequitas currently has three analytics classes, `Group()`, `Bias()`, and `Fairness()` that build upon each other to calculate confusion matrix-based metrics by group, and then create comparisons to a chosen reference group.  Aequitas also has a `Plotting()` class that leverages statistics calculated using the three analytics classes.  While Aequitas can be used to calculate many disparity metrics, we will focus on two: the Adverse Impact Ratio (Aequitas calls this the `Predicted Positive Rate Ratio`), and the relative `False Negative Rate`.  For descriptions of other metrics, readers should review Aequitas's documentation.\n",
    "\n",
    "Aequitas can be downloaded using pip.  Note that as of the date of publication, installing Aequitas may cause some dependency errors when installing in the environment used in this book.  While we do not believe this causes any errors in results presented, one should proceed with caution.\n",
    "```\n",
    "pip install aequitas\n",
    "```\n",
    "Below the relevent Aequitas classes are imported and instantiated."
   ]
  },
  {
   "cell_type": "code",
   "execution_count": 9,
   "metadata": {
    "collapsed": false,
    "pycharm": {
     "name": "#%%\n"
    }
   },
   "outputs": [],
   "source": [
    "from aequitas.group import Group\n",
    "from aequitas.bias import Bias\n",
    "from aequitas.fairness import Fairness\n",
    "from aequitas.plotting import Plot\n",
    "\n",
    "aeq_group = Group()\n",
    "aeq_bias = Bias()\n",
    "aeq_fairness = Fairness()\n",
    "aeq_plot = Plot()"
   ]
  },
  {
   "cell_type": "markdown",
   "metadata": {
    "pycharm": {
     "name": "#%% md\n"
    }
   },
   "source": [
    "\n",
    "#### Aequitas Preprocessing  \n",
    "\n",
    "Aequitas requires a dataframe with at least three columns that have set names to conduct a dispairty analysis. One column must contain the model's prediction or the model system's outcome (in our case, `Low Priced Offer`), and be called, `score`.  Another variable represents the true outcome (i.e., `low_priced`) and must be titled `label_value` within Aequitas. While the label must be binary, the `score` column can be either probabilities or binary outcomes.  The third required column contains the class data as a categorical value.  If there are multiple protected classes being analyzed, like race and sex, then more than one column can be provided.  Below, the necessary preprocessing is completed on the validity dataset.  In order to show how fairness can be calculated on multiple protected classes, both race and sex are considered. "
   ]
  },
  {
   "cell_type": "code",
   "execution_count": 11,
   "metadata": {
    "collapsed": false,
    "pycharm": {
     "name": "#%%\n"
    }
   },
   "outputs": [
    {
     "data": {
      "text/html": [
       "<div>\n",
       "<style scoped>\n",
       "    .dataframe tbody tr th:only-of-type {\n",
       "        vertical-align: middle;\n",
       "    }\n",
       "\n",
       "    .dataframe tbody tr th {\n",
       "        vertical-align: top;\n",
       "    }\n",
       "\n",
       "    .dataframe thead th {\n",
       "        text-align: right;\n",
       "    }\n",
       "</style>\n",
       "<table border=\"1\" class=\"dataframe\">\n",
       "  <thead>\n",
       "    <tr style=\"text-align: right;\">\n",
       "      <th></th>\n",
       "      <th>sex</th>\n",
       "      <th>race</th>\n",
       "      <th>label_value</th>\n",
       "      <th>score</th>\n",
       "    </tr>\n",
       "    <tr>\n",
       "      <th>ID</th>\n",
       "      <th></th>\n",
       "      <th></th>\n",
       "      <th></th>\n",
       "      <th></th>\n",
       "    </tr>\n",
       "  </thead>\n",
       "  <tbody>\n",
       "    <tr>\n",
       "      <th>5271564</th>\n",
       "      <td>Male</td>\n",
       "      <td>White</td>\n",
       "      <td>0.0</td>\n",
       "      <td>False</td>\n",
       "    </tr>\n",
       "    <tr>\n",
       "      <th>4204482</th>\n",
       "      <td>Male</td>\n",
       "      <td>Unknown</td>\n",
       "      <td>1.0</td>\n",
       "      <td>False</td>\n",
       "    </tr>\n",
       "    <tr>\n",
       "      <th>3927406</th>\n",
       "      <td>Unknown</td>\n",
       "      <td>White</td>\n",
       "      <td>1.0</td>\n",
       "      <td>True</td>\n",
       "    </tr>\n",
       "    <tr>\n",
       "      <th>4390283</th>\n",
       "      <td>Unknown</td>\n",
       "      <td>White</td>\n",
       "      <td>1.0</td>\n",
       "      <td>True</td>\n",
       "    </tr>\n",
       "    <tr>\n",
       "      <th>4390039</th>\n",
       "      <td>Unknown</td>\n",
       "      <td>Unknown</td>\n",
       "      <td>1.0</td>\n",
       "      <td>True</td>\n",
       "    </tr>\n",
       "  </tbody>\n",
       "</table>\n",
       "</div>"
      ],
      "text/plain": [
       "             sex     race  label_value  score\n",
       "ID                                           \n",
       "5271564     Male    White          0.0  False\n",
       "4204482     Male  Unknown          1.0  False\n",
       "3927406  Unknown    White          1.0   True\n",
       "4390283  Unknown    White          1.0   True\n",
       "4390039  Unknown  Unknown          1.0   True"
      ]
     },
     "execution_count": 11,
     "metadata": {},
     "output_type": "execute_result"
    }
   ],
   "source": [
    "# aequitas_valid = valid[['sex', 'race', 'low_priced', 'predictions']].copy()\n",
    "aequitas_valid = valid[['sex', 'race', label, 'Low-Priced Offer']].copy()\n",
    "# aequitas_valid.loc[~aequitas_valid['race'].isin(['Black', 'White']), 'race'] = 'Other/Unknown'\n",
    "\n",
    "aequitas_valid.rename(\n",
    "    columns={\n",
    "    'Low-Priced Offer': 'score',\n",
    "    # 'predictions': 'score',\n",
    "    label: 'label_value',\n",
    "    },\n",
    "    inplace=True\n",
    ")\n",
    "table_07 = aequitas_valid.sample(n=5, random_state=1618)\n",
    "#  dfi.export(table_07, 'Table 07.png')\n",
    "table_07\n"
   ]
  },
  {
   "cell_type": "markdown",
   "metadata": {
    "collapsed": false,
    "pycharm": {
     "name": "#%% md\n"
    }
   },
   "source": [
    "#### Calculating Group Fairness Metrics with Aequitas\n",
    "\n",
    "Below, the three Aequitas analytics classes are run sequentially (`Group()` first, `Bias()` second, and `Fairness()` third).  If a user passes in the model's predictions rather than the outcome, in the `Group()` class the user has to include the `score_threshold` argument to provide thresholds for Aequitas to test.  Conveniently, Aequitas can test multiple cutoffs and ways to create cutoffs (e.g., score thresholds or rank thresholds).  A disadvantage to using thresholds is that, as of the time of publication, Aequitas errors out in the `Bias()` class if the user specifies that they want to test statistical significance, but has provided threshold-based outcomes.   However, since we are using the binarized `Low Priced Offer` outcome, we are able to calculate statistical significance."
   ]
  },
  {
   "cell_type": "code",
   "execution_count": 12,
   "metadata": {
    "collapsed": false,
    "pycharm": {
     "name": "#%%\n"
    }
   },
   "outputs": [],
   "source": [
    "crosstabs, _ = aeq_group.get_crosstabs(\n",
    "    df=aequitas_valid,\n",
    "    attr_cols=['sex', 'race'],\n",
    ")\n",
    "bias_report = aeq_bias.get_disparity_predefined_groups(\n",
    "    df=crosstabs,\n",
    "    original_df=aequitas_valid,\n",
    "    ref_groups_dict={'race': 'White', 'sex': 'Male'},\n",
    "    check_significance=True,\n",
    "    alpha=0.05,\n",
    "    mask_significance=False,\n",
    ")"
   ]
  },
  {
   "cell_type": "markdown",
   "metadata": {
    "pycharm": {
     "name": "#%% md\n"
    }
   },
   "source": [
    "In the `Bias()` call above, the `alpha` parameter is the value of the two-sided p-value used to measure whether a result is statistically significant.  As is standard, a 5% test is used here."
   ]
  },
  {
   "cell_type": "code",
   "execution_count": 13,
   "metadata": {
    "collapsed": false,
    "pycharm": {
     "name": "#%%\n"
    }
   },
   "outputs": [],
   "source": [
    "fairness_report = aeq_fairness.get_group_value_fairness(\n",
    "    bias_df=bias_report,\n",
    "    tau=0.95,  # Note high value\n",
    ")"
   ]
  },
  {
   "cell_type": "markdown",
   "metadata": {
    "pycharm": {
     "name": "#%% md\n"
    }
   },
   "source": [
    "The `Fairness().get_group_value_fairness()` call uses an argument, `tau`, which is the threshold used for practical significance.  Only one threshold value of `tau` can be provided, which means that threshold is applied across all of the metrics calculated.  This is problematic because it is unlikely that it makes sense for a single threshold value has meaning across a broad range of metrics.  If the reader is using Aequitas to measure fairness across multiple metrics, instead of using the `tau` argument, it may make more sense to set metrics individually and determine significance programmatically (i.e., write one's own code for determining significance, rather than using Aequitas's method).\n",
    "\n",
    "Here, we set the `tau` threshold to 0.95, rather than 0.80 (which is the default value and what we used in the code above).  In practice, this would generally be a higher threshold than is typically used.  We set it this high so that we can better demonstrate Aequitas's usage of the threshold. "
   ]
  },
  {
   "cell_type": "code",
   "execution_count": 14,
   "metadata": {
    "pycharm": {
     "name": "#%%\n"
    }
   },
   "outputs": [
    {
     "data": {
      "text/html": [
       "<style type=\"text/css\">\n",
       "</style>\n",
       "<table id=\"T_d2c15\">\n",
       "  <thead>\n",
       "    <tr>\n",
       "      <th id=\"T_d2c15_level0_col0\" class=\"col_heading level0 col0\" >attribute_value</th>\n",
       "      <th id=\"T_d2c15_level0_col1\" class=\"col_heading level0 col1\" >fnr</th>\n",
       "      <th id=\"T_d2c15_level0_col2\" class=\"col_heading level0 col2\" >fnr_significance</th>\n",
       "      <th id=\"T_d2c15_level0_col3\" class=\"col_heading level0 col3\" >fnr_disparity</th>\n",
       "      <th id=\"T_d2c15_level0_col4\" class=\"col_heading level0 col4\" >FNR Parity</th>\n",
       "      <th id=\"T_d2c15_level0_col5\" class=\"col_heading level0 col5\" >pprev</th>\n",
       "      <th id=\"T_d2c15_level0_col6\" class=\"col_heading level0 col6\" >pprev_disparity</th>\n",
       "      <th id=\"T_d2c15_level0_col7\" class=\"col_heading level0 col7\" >pprev_significance</th>\n",
       "      <th id=\"T_d2c15_level0_col8\" class=\"col_heading level0 col8\" >Impact Parity</th>\n",
       "    </tr>\n",
       "  </thead>\n",
       "  <tbody>\n",
       "    <tr>\n",
       "      <td id=\"T_d2c15_row0_col0\" class=\"data row0 col0\" >Unknown</td>\n",
       "      <td id=\"T_d2c15_row0_col1\" class=\"data row0 col1\" >27.5%</td>\n",
       "      <td id=\"T_d2c15_row0_col2\" class=\"data row0 col2\" >4.3%</td>\n",
       "      <td id=\"T_d2c15_row0_col3\" class=\"data row0 col3\" >0.722</td>\n",
       "      <td id=\"T_d2c15_row0_col4\" class=\"data row0 col4\" >False</td>\n",
       "      <td id=\"T_d2c15_row0_col5\" class=\"data row0 col5\" >67.3%</td>\n",
       "      <td id=\"T_d2c15_row0_col6\" class=\"data row0 col6\" >1.199</td>\n",
       "      <td id=\"T_d2c15_row0_col7\" class=\"data row0 col7\" >0.0%</td>\n",
       "      <td id=\"T_d2c15_row0_col8\" class=\"data row0 col8\" >False</td>\n",
       "    </tr>\n",
       "    <tr>\n",
       "      <td id=\"T_d2c15_row1_col0\" class=\"data row1 col0\" >Asian/PI</td>\n",
       "      <td id=\"T_d2c15_row1_col1\" class=\"data row1 col1\" >21.0%</td>\n",
       "      <td id=\"T_d2c15_row1_col2\" class=\"data row1 col2\" >2.8%</td>\n",
       "      <td id=\"T_d2c15_row1_col3\" class=\"data row1 col3\" >0.611</td>\n",
       "      <td id=\"T_d2c15_row1_col4\" class=\"data row1 col4\" >False</td>\n",
       "      <td id=\"T_d2c15_row1_col5\" class=\"data row1 col5\" >75.4%</td>\n",
       "      <td id=\"T_d2c15_row1_col6\" class=\"data row1 col6\" >1.253</td>\n",
       "      <td id=\"T_d2c15_row1_col7\" class=\"data row1 col7\" >0.0%</td>\n",
       "      <td id=\"T_d2c15_row1_col8\" class=\"data row1 col8\" >False</td>\n",
       "    </tr>\n",
       "    <tr>\n",
       "      <td id=\"T_d2c15_row2_col0\" class=\"data row2 col0\" >Black</td>\n",
       "      <td id=\"T_d2c15_row2_col1\" class=\"data row2 col1\" >55.2%</td>\n",
       "      <td id=\"T_d2c15_row2_col2\" class=\"data row2 col2\" >0.0%</td>\n",
       "      <td id=\"T_d2c15_row2_col3\" class=\"data row2 col3\" >1.607</td>\n",
       "      <td id=\"T_d2c15_row2_col4\" class=\"data row2 col4\" >False</td>\n",
       "      <td id=\"T_d2c15_row2_col5\" class=\"data row2 col5\" >36.3%</td>\n",
       "      <td id=\"T_d2c15_row2_col6\" class=\"data row2 col6\" >0.604</td>\n",
       "      <td id=\"T_d2c15_row2_col7\" class=\"data row2 col7\" >0.0%</td>\n",
       "      <td id=\"T_d2c15_row2_col8\" class=\"data row2 col8\" >False</td>\n",
       "    </tr>\n",
       "    <tr>\n",
       "      <td id=\"T_d2c15_row3_col0\" class=\"data row3 col0\" >Native American</td>\n",
       "      <td id=\"T_d2c15_row3_col1\" class=\"data row3 col1\" >48.2%</td>\n",
       "      <td id=\"T_d2c15_row3_col2\" class=\"data row3 col2\" >95.3%</td>\n",
       "      <td id=\"T_d2c15_row3_col3\" class=\"data row3 col3\" >1.404</td>\n",
       "      <td id=\"T_d2c15_row3_col4\" class=\"data row3 col4\" >False</td>\n",
       "      <td id=\"T_d2c15_row3_col5\" class=\"data row3 col5\" >45.8%</td>\n",
       "      <td id=\"T_d2c15_row3_col6\" class=\"data row3 col6\" >0.762</td>\n",
       "      <td id=\"T_d2c15_row3_col7\" class=\"data row3 col7\" >0.0%</td>\n",
       "      <td id=\"T_d2c15_row3_col8\" class=\"data row3 col8\" >False</td>\n",
       "    </tr>\n",
       "    <tr>\n",
       "      <td id=\"T_d2c15_row4_col0\" class=\"data row4 col0\" >Unknown</td>\n",
       "      <td id=\"T_d2c15_row4_col1\" class=\"data row4 col1\" >30.8%</td>\n",
       "      <td id=\"T_d2c15_row4_col2\" class=\"data row4 col2\" >4.3%</td>\n",
       "      <td id=\"T_d2c15_row4_col3\" class=\"data row4 col3\" >0.896</td>\n",
       "      <td id=\"T_d2c15_row4_col4\" class=\"data row4 col4\" >False</td>\n",
       "      <td id=\"T_d2c15_row4_col5\" class=\"data row4 col5\" >63.4%</td>\n",
       "      <td id=\"T_d2c15_row4_col6\" class=\"data row4 col6\" >1.054</td>\n",
       "      <td id=\"T_d2c15_row4_col7\" class=\"data row4 col7\" >0.0%</td>\n",
       "      <td id=\"T_d2c15_row4_col8\" class=\"data row4 col8\" >False</td>\n",
       "    </tr>\n",
       "    <tr>\n",
       "      <td id=\"T_d2c15_row5_col0\" class=\"data row5 col0\" >White</td>\n",
       "      <td id=\"T_d2c15_row5_col1\" class=\"data row5 col1\" >34.4%</td>\n",
       "      <td id=\"T_d2c15_row5_col2\" class=\"data row5 col2\" >100.0%</td>\n",
       "      <td id=\"T_d2c15_row5_col3\" class=\"data row5 col3\" >1.000</td>\n",
       "      <td id=\"T_d2c15_row5_col4\" class=\"data row5 col4\" >True</td>\n",
       "      <td id=\"T_d2c15_row5_col5\" class=\"data row5 col5\" >60.1%</td>\n",
       "      <td id=\"T_d2c15_row5_col6\" class=\"data row5 col6\" >1.000</td>\n",
       "      <td id=\"T_d2c15_row5_col7\" class=\"data row5 col7\" >100.0%</td>\n",
       "      <td id=\"T_d2c15_row5_col8\" class=\"data row5 col8\" >True</td>\n",
       "    </tr>\n",
       "  </tbody>\n",
       "</table>\n"
      ],
      "text/plain": [
       "<pandas.io.formats.style.Styler at 0x1af8ff60b10>"
      ]
     },
     "execution_count": 14,
     "metadata": {},
     "output_type": "execute_result"
    }
   ],
   "source": [
    "fairness_columns = ['attribute_value',  'fnr', 'fnr_significance', 'fnr_disparity',  \n",
    "    'FNR Parity', 'pprev', 'pprev_disparity', 'pprev_significance', 'Impact Parity']\n",
    "\n",
    "race_values = valid['race'].unique()   \n",
    "fairness_mask = fairness_report['attribute_value'].isin(race_values)\n",
    "format_dict = {key: '{:0.1%}' for key in ['fnr', 'fnr_significance', 'pprev', 'pprev_significance']}\n",
    "format_dict = {**format_dict, **{key: '{:0.3f}' for key in ['fnr_disparity', 'pprev_disparity']}}\n",
    "table_08 = fairness_report.loc[fairness_mask, fairness_columns].style.format(format_dict).hide(axis='index')\n",
    "# dfi.export(table_08, 'Table 08.png')\n",
    "table_08"
   ]
  },
  {
   "cell_type": "markdown",
   "metadata": {
    "pycharm": {
     "name": "#%% md\n"
    }
   },
   "source": [
    "While Aequitas has calculated many metrics via `get_group_value_fairness()`, we report those for the adverse impact ratio (identified as the columns containing `pprev` and `Impact Parity`) and the false negative rate ratio (identified as columns that begin with `fnr`).  As expected, the results for the AIR, `pprev_disparity`, are the same as those found in our calculations above.  The measures of statistical significance for the AIRs, `pprev_significance`, are slightly, but not meaningfully, different because Aequitas uses a t-test to test statistical significance, rather than a logistic regression.  \n",
    "\n",
    "It is important to note that the parity columns (`FNR Parity` and `Impact Parity`) only incorporate thresholds, and they do not consider statistical significance.  In the results above, we see that Aequitas reports that the test of parity failed for Hawaiian or Pacific Islander group even though the p-value, `pprev_significance` is greater than our threshold of 5%.  For this reason, one would generally not want to use the parity columns on their own from Aequitas, but also incorporate information from the significance columns. \n",
    "\n",
    "Another important consideration is that Aequitas's `tau` parameter is transformed such that any value below `tau` or any value above `1 / tau` is considered practically significant.  Using our threshold of 0.95, this means that `Parity = (0.95 <= X <= 1.053)`.  This is why we see the `Impact Parity` column being `False` for Asians: the AIR of 1.099 exceeds the inverse value of tau, `1 / 0.95 ≈ 1.053`.  Whether a result that significantly favors a protected class is meaningful depends heavily on context and usage.  In many cases, this is of less concern.  However, the use of the inverse value is helpful because a lower value of some metrics is more favorable than a higher value.  We can see this in a comparison between the adverse impact ratio and the relative false negative rate results above.  While a result below 1.0 indicates disfavorable outcomes for a protected group for adverse impact ratios, a value above 1.0 indicates disfavorable outcomes for protected groups for relative false negative rates.  Here, a false negative is a bad outcome: the borrower does not receive a low-priced loan when they would have otherwise.  Using the results above, we see that Black or African-American borrowers were 2.23 times as likely not to receive a low-priced loan under this model relative to White borrowers.  This greatly exceeds our threshold of approximately 1.053.  Given that it is also statistically significant (`fnr_significance` < 0.05), a user considering the relative false negative rate results would flag this for subsequent review and analysis.\n"
   ]
  },
  {
   "cell_type": "markdown",
   "metadata": {
    "collapsed": false,
    "pycharm": {
     "name": "#%% md\n"
    }
   },
   "source": [
    "### Plotting with Aequitas\n",
    "\n",
    "Aequitas has a number of helpful and plots that allow users to display information about the results found in the analytics classes.  Most of these plots are available through the `Plot()` class, though several have to be accessed via `aequitas.plot`.  The first two plots below are `matplotlib`-based plots, created with the `Plot()` class.  There are a number of variations that highlight different characteristics, such as whether results are statistically significant, or have different color patterns. Useful arguments include `min_group_size`, which limits plotting to groups that represent at least a specified percent of the population."
   ]
  },
  {
   "cell_type": "code",
   "execution_count": 15,
   "metadata": {
    "collapsed": false,
    "pycharm": {
     "name": "#%%\n"
    }
   },
   "outputs": [
    {
     "data": {
      "image/png": "[encoded data removed]",
      "text/plain": [
       "<Figure size 2500x1200 with 2 Axes>"
      ]
     },
     "metadata": {},
     "output_type": "display_data"
    },
    {
     "data": {
      "text/plain": [
       "<Figure size 640x480 with 0 Axes>"
      ]
     },
     "metadata": {},
     "output_type": "display_data"
    }
   ],
   "source": [
    "fairness_report_tau_80 = aeq_fairness.get_group_value_fairness(\n",
    "    bias_df=bias_report,\n",
    "    tau=0.80,\n",
    ")\n",
    "_ = aeq_plot.plot_fairness_group_all(\n",
    "    fairness_table=fairness_report_tau_80,\n",
    "    ncols=1, \n",
    "    metrics=['pprev', 'fnr'],\n",
    "    min_group_size=0.01,\n",
    ")"
   ]
  },
  {
   "cell_type": "markdown",
   "metadata": {
    "pycharm": {
     "name": "#%% md\n"
    }
   },
   "source": [
    "Before creating the plots, we recalculate `Fairness().get_group_value_fairness()`, using a more reasonable `tau=0.80`.  The PPRV results display the percent of each class that recieved a favorable outcome.  For example, Black applicants received a favorable outcome 63% of the itme, but White applicants received a favorable outcome 83% of the time.  This contrast is revealed through the relative length of the bars.  The red bars indicate results for groups outside of the `tau` or `1 / tau` threshold.  Importantly, this coloring does not take into account statistical significance.  As an alternative to this plot, one can use `Plot().plot_group_metric_all()` to plot the same information without the threshold-based color mapping."
   ]
  },
  {
   "cell_type": "markdown",
   "metadata": {
    "pycharm": {
     "name": "#%% md\n"
    }
   },
   "source": [
    "The next plot shows the disparity metrics by race.  The size of each box represents the relative size of each group while the color scale represents the level of disparity.  We can use these plots by looking for cells with more extreme colors to identify where there are larger disparities (e.g., most clearly, Black applicants for FNR disparity).  We can also use the sizes of the boxes to understand whether the disparities occur for groups that represent a substantial portion of the population.  This helps a user to quickly identify major areas of concern.  A further advantage of this plot is that it shows whether a disparity is statistically significant.  If it is, then two asteriks appear after the value for the disparity metric (e.g., \"0.76**\" for Black applicants).  An important note of caution is that, if a large number of groups are plotted, then the disparity values and their statistical significance may not be displayed.  In this case, one could easily misinterpret the plot by assuming that the results are not statistically significant.  Another version of this plot can be called using `Plot().plot_fairness_disparity_all`.  This version uses a red/green color mapping to show levels of practical significance, similar to the first plot above."
   ]
  },
  {
   "cell_type": "code",
   "execution_count": 16,
   "metadata": {
    "pycharm": {
     "name": "#%%\n"
    }
   },
   "outputs": [
    {
     "data": {
      "image/png": "[encoded data removed]",
      "text/plain": [
       "<Figure size 2500x800 with 4 Axes>"
      ]
     },
     "metadata": {},
     "output_type": "display_data"
    }
   ],
   "source": [
    "_ = aeq_plot.plot_disparity_all(\n",
    "    data_table=fairness_report_tau_80,\n",
    "    attributes=['race'],\n",
    "    metrics=['pprev', 'fnr'],\n",
    "    min_group_size=0.01,\n",
    "    significance_alpha=0.05,\n",
    ")"
   ]
  },
  {
   "cell_type": "markdown",
   "metadata": {
    "pycharm": {
     "name": "#%% md\n"
    }
   },
   "source": [
    "The subsequent disparity plot is generated via `aequitas.plot`.  For users creating interactive reports, plots using `aequitas.plot` do allow the user to highlight and remove information about particiular classes as well as get information by hovering over particular groups.  As can be seen in the code and charts, there is an inconsistency in the specification of the threshold metric.  In the other plots, it was called as the argument `tau` and forced to be below 1.0. In these charts, the argument is `fairness_threshold` and is set as `1 / tau`.  This can easily create confusion, but Aequitas does error out if a user tries to send in a value greater than 1.0.  An additional source of confusion can occur for users when printing two statistics like these on the same chart.  As discussed above, a lower value represents harm for a protected group for PPREV, but a higher value for FNR for a protected group.  It is easy for a user to miss this information.  One should be careful about noting this discrepency or results could eaisly be misinterpreted.  One simple solution is to split the printing into two separate charts with notes explaining how to interpret them."
   ]
  },
  {
   "cell_type": "code",
   "execution_count": 17,
   "metadata": {
    "pycharm": {
     "name": "#%%\n"
    }
   },
   "outputs": [
    {
     "name": "stderr",
     "output_type": "stream",
     "text": [
      "c:\\Users\\nickp\\anaconda3\\envs\\cfpb_1\\Lib\\site-packages\\altair\\utils\\deprecation.py:65: AltairDeprecationWarning: 'selection_multi' is deprecated.  Use 'selection_point'\n",
      "  warnings.warn(message, AltairDeprecationWarning, stacklevel=1)\n",
      "c:\\Users\\nickp\\anaconda3\\envs\\cfpb_1\\Lib\\site-packages\\altair\\vegalite\\v5\\api.py:405: AltairDeprecationWarning: The value of 'empty' should be True or False.\n",
      "  warnings.warn(\n",
      "c:\\Users\\nickp\\anaconda3\\envs\\cfpb_1\\Lib\\site-packages\\altair\\utils\\deprecation.py:65: AltairDeprecationWarning: 'selection_multi' is deprecated.  Use 'selection_point'\n",
      "  warnings.warn(message, AltairDeprecationWarning, stacklevel=1)\n",
      "c:\\Users\\nickp\\anaconda3\\envs\\cfpb_1\\Lib\\site-packages\\altair\\vegalite\\v5\\api.py:405: AltairDeprecationWarning: The value of 'empty' should be True or False.\n",
      "  warnings.warn(\n",
      "c:\\Users\\nickp\\anaconda3\\envs\\cfpb_1\\Lib\\site-packages\\altair\\utils\\deprecation.py:65: AltairDeprecationWarning: 'add_selection' is deprecated. Use 'add_params' instead.\n",
      "  warnings.warn(message, AltairDeprecationWarning, stacklevel=1)\n",
      "c:\\Users\\nickp\\anaconda3\\envs\\cfpb_1\\Lib\\site-packages\\altair\\utils\\deprecation.py:65: AltairDeprecationWarning: 'selection_multi' is deprecated.  Use 'selection_point'\n",
      "  warnings.warn(message, AltairDeprecationWarning, stacklevel=1)\n",
      "c:\\Users\\nickp\\anaconda3\\envs\\cfpb_1\\Lib\\site-packages\\altair\\vegalite\\v5\\api.py:405: AltairDeprecationWarning: The value of 'empty' should be True or False.\n",
      "  warnings.warn(\n",
      "c:\\Users\\nickp\\anaconda3\\envs\\cfpb_1\\Lib\\site-packages\\altair\\utils\\deprecation.py:65: AltairDeprecationWarning: 'add_selection' is deprecated. Use 'add_params' instead.\n",
      "  warnings.warn(message, AltairDeprecationWarning, stacklevel=1)\n",
      "c:\\Users\\nickp\\anaconda3\\envs\\cfpb_1\\Lib\\site-packages\\altair\\utils\\deprecation.py:65: AltairDeprecationWarning: 'add_selection' is deprecated. Use 'add_params' instead.\n",
      "  warnings.warn(message, AltairDeprecationWarning, stacklevel=1)\n",
      "c:\\Users\\nickp\\anaconda3\\envs\\cfpb_1\\Lib\\site-packages\\altair\\utils\\deprecation.py:65: AltairDeprecationWarning: 'selection_multi' is deprecated.  Use 'selection_point'\n",
      "  warnings.warn(message, AltairDeprecationWarning, stacklevel=1)\n",
      "c:\\Users\\nickp\\anaconda3\\envs\\cfpb_1\\Lib\\site-packages\\altair\\vegalite\\v5\\api.py:405: AltairDeprecationWarning: The value of 'empty' should be True or False.\n",
      "  warnings.warn(\n"
     ]
    },
    {
     "data": {
      "text/html": [
       "\n",
       "<style>\n",
       "  #altair-viz-54cbed7b0f2f4fb4b5f78a5ee8afcb2b.vega-embed {\n",
       "    width: 100%;\n",
       "    display: flex;\n",
       "  }\n",
       "\n",
       "  #altair-viz-54cbed7b0f2f4fb4b5f78a5ee8afcb2b.vega-embed details,\n",
       "  #altair-viz-54cbed7b0f2f4fb4b5f78a5ee8afcb2b.vega-embed details summary {\n",
       "    position: relative;\n",
       "  }\n",
       "</style>\n",
       "<div id=\"altair-viz-54cbed7b0f2f4fb4b5f78a5ee8afcb2b\"></div>\n",
       "<script type=\"text/javascript\">\n",
       "  var VEGA_DEBUG = (typeof VEGA_DEBUG == \"undefined\") ? {} : VEGA_DEBUG;\n",
       "  (function(spec, embedOpt){\n",
       "    let outputDiv = document.currentScript.previousElementSibling;\n",
       "    if (outputDiv.id !== \"altair-viz-54cbed7b0f2f4fb4b5f78a5ee8afcb2b\") {\n",
       "      outputDiv = document.getElementById(\"altair-viz-54cbed7b0f2f4fb4b5f78a5ee8afcb2b\");\n",
       "    }\n",
       "    const paths = {\n",
       "      \"vega\": \"https://cdn.jsdelivr.net/npm/vega@5?noext\",\n",
       "      \"vega-lib\": \"https://cdn.jsdelivr.net/npm/vega-lib?noext\",\n",
       "      \"vega-lite\": \"https://cdn.jsdelivr.net/npm/vega-lite@5.17.0?noext\",\n",
       "      \"vega-embed\": \"https://cdn.jsdelivr.net/npm/vega-embed@6?noext\",\n",
       "    };\n",
       "\n",
       "    function maybeLoadScript(lib, version) {\n",
       "      var key = `${lib.replace(\"-\", \"\")}_version`;\n",
       "      return (VEGA_DEBUG[key] == version) ?\n",
       "        Promise.resolve(paths[lib]) :\n",
       "        new Promise(function(resolve, reject) {\n",
       "          var s = document.createElement('script');\n",
       "          document.getElementsByTagName(\"head\")[0].appendChild(s);\n",
       "          s.async = true;\n",
       "          s.onload = () => {\n",
       "            VEGA_DEBUG[key] = version;\n",
       "            return resolve(paths[lib]);\n",
       "          };\n",
       "          s.onerror = () => reject(`Error loading script: ${paths[lib]}`);\n",
       "          s.src = paths[lib];\n",
       "        });\n",
       "    }\n",
       "\n",
       "    function showError(err) {\n",
       "      outputDiv.innerHTML = `<div class=\"error\" style=\"color:red;\">${err}</div>`;\n",
       "      throw err;\n",
       "    }\n",
       "\n",
       "    function displayChart(vegaEmbed) {\n",
       "      vegaEmbed(outputDiv, spec, embedOpt)\n",
       "        .catch(err => showError(`Javascript Error: ${err.message}<br>This usually means there's a typo in your chart specification. See the javascript console for the full traceback.`));\n",
       "    }\n",
       "\n",
       "    if(typeof define === \"function\" && define.amd) {\n",
       "      requirejs.config({paths});\n",
       "      require([\"vega-embed\"], displayChart, err => showError(`Error loading script: ${err.message}`));\n",
       "    } else {\n",
       "      maybeLoadScript(\"vega\", \"5\")\n",
       "        .then(() => maybeLoadScript(\"vega-lite\", \"5.17.0\"))\n",
       "        .then(() => maybeLoadScript(\"vega-embed\", \"6\"))\n",
       "        .catch(showError)\n",
       "        .then(() => displayChart(vegaEmbed));\n",
       "    }\n",
       "  })({\"config\": {\"view\": {\"continuousWidth\": 300, \"continuousHeight\": 300, \"strokeWidth\": 0}, \"axisLeft\": {\"labelColor\": \"rgb(102, 111, 137)\", \"labelFont\": \"Roboto, Arial, sans-serif\", \"labelFontSize\": 16}, \"title\": {\"anchor\": \"start\", \"color\": \"rgb(25, 39, 78)\", \"font\": \"Roboto, Arial, sans-serif\", \"fontSize\": 20, \"fontWeight\": \"bold\", \"offset\": 20}}, \"layer\": [{\"data\": {\"name\": \"data-21a790b78e9f916080a327ed58838389\"}, \"mark\": {\"type\": \"rule\", \"stroke\": \"rgb(102, 111, 137)\", \"strokeWidth\": 1.25, \"tooltip\": null}, \"encoding\": {\"x\": {\"field\": \"x\", \"scale\": {\"domain\": [-2, 2], \"range\": [40.0, 760.0]}, \"type\": \"quantitative\"}, \"x2\": {\"field\": \"x2\"}, \"y\": {\"axis\": {\"domain\": false, \"labelAngle\": 0, \"labelPadding\": -30, \"orient\": \"left\", \"ticks\": false, \"title\": null}, \"field\": \"metric\", \"scale\": {\"domain\": [\"PPREV\", \"FNR\"], \"range\": [40.0, 360.0]}, \"type\": \"nominal\"}}}, {\"data\": {\"name\": \"data-de84bc8c822dac0bd3b12b0342548471\"}, \"mark\": {\"type\": \"rule\", \"stroke\": \"rgb(102, 111, 137)\", \"strokeDash\": [5, 5], \"strokeWidth\": 1}, \"encoding\": {\"tooltip\": {\"value\": \"White [REF]\"}, \"x\": {\"value\": 400.0}, \"y\": {\"value\": 33.333333333333336}, \"y2\": {\"value\": 366.66666666666663}}}, {\"data\": {\"name\": \"data-5301160e2632d994a912fb62c574b38d\"}, \"mark\": {\"type\": \"text\", \"align\": \"center\", \"color\": \"rgb(102, 111, 137)\", \"font\": \"Roboto, Arial, sans-serif\", \"fontSize\": 12, \"fontWeight\": \"normal\", \"tooltip\": null}, \"encoding\": {\"text\": {\"field\": \"label\", \"type\": \"nominal\"}, \"x\": {\"field\": \"value\", \"scale\": {\"domain\": [-2, 2], \"range\": [40.0, 760.0]}, \"type\": \"quantitative\"}, \"y\": {\"value\": 28.0}}}, {\"layer\": [{\"mark\": {\"type\": \"text\", \"align\": \"left\", \"fill\": \"rgb(102, 111, 137)\", \"font\": \"Roboto, Arial, sans-serif\", \"fontSize\": 12, \"fontWeight\": \"normal\", \"tooltip\": null}, \"encoding\": {\"text\": {\"value\": \"Times Smaller\"}, \"x\": {\"value\": 40.0}, \"y\": {\"value\": 12.0}}}, {\"mark\": {\"type\": \"text\", \"align\": \"right\", \"fill\": \"rgb(102, 111, 137)\", \"font\": \"Roboto, Arial, sans-serif\", \"fontSize\": 12, \"fontWeight\": \"normal\", \"tooltip\": null}, \"encoding\": {\"text\": {\"value\": \"Times Larger\"}, \"x\": {\"value\": 760.0}, \"y\": {\"value\": 12.0}}}, {\"mark\": {\"type\": \"text\", \"align\": \"center\", \"fill\": \"rgb(102, 111, 137)\", \"font\": \"Roboto, Arial, sans-serif\", \"fontSize\": 12, \"fontWeight\": \"normal\", \"tooltip\": null}, \"encoding\": {\"text\": {\"value\": \"Equal\"}, \"x\": {\"value\": 400.0}, \"y\": {\"value\": 12.0}}}], \"data\": {\"name\": \"data-de84bc8c822dac0bd3b12b0342548471\"}}, {\"layer\": [{\"mark\": {\"type\": \"rule\", \"opacity\": 0.8, \"stroke\": \"rgb(211, 47, 47)\", \"strokeWidth\": 1.25, \"tooltip\": null}, \"encoding\": {\"x\": {\"field\": \"min\", \"scale\": {\"domain\": [-2, 2], \"range\": [40.0, 760.0]}, \"type\": \"quantitative\"}, \"y\": {\"value\": 40.0}, \"y2\": {\"value\": 360.0}}}, {\"mark\": {\"type\": \"rule\", \"opacity\": 0.8, \"stroke\": \"rgb(211, 47, 47)\", \"strokeWidth\": 1.25, \"tooltip\": null}, \"encoding\": {\"x\": {\"field\": \"max\", \"scale\": {\"domain\": [-2, 2], \"range\": [40.0, 760.0]}, \"type\": \"quantitative\"}, \"y\": {\"value\": 40.0}, \"y2\": {\"value\": 360.0}}}, {\"layer\": [{\"mark\": {\"type\": \"rect\", \"fill\": \"rgb(211, 47, 47)\", \"opacity\": 0.1, \"tooltip\": null}, \"encoding\": {\"x\": {\"field\": \"min\", \"scale\": {\"domain\": [-2, 2], \"range\": [40.0, 760.0]}, \"type\": \"quantitative\"}, \"x2\": {\"field\": \"lower_end\"}, \"y\": {\"value\": 40.0}, \"y2\": {\"value\": 360.0}}}, {\"mark\": {\"type\": \"rect\", \"fill\": \"rgb(211, 47, 47)\", \"opacity\": 0.1, \"tooltip\": null}, \"encoding\": {\"x\": {\"field\": \"max\", \"scale\": {\"domain\": [-2, 2], \"range\": [40.0, 760.0]}, \"type\": \"quantitative\"}, \"x2\": {\"field\": \"upper_end\"}, \"y\": {\"value\": 40.0}, \"y2\": {\"value\": 360.0}}}]}, {\"layer\": [{\"mark\": {\"type\": \"text\", \"align\": \"left\", \"baseline\": \"top\", \"fill\": \"rgb(211, 47, 47)\", \"font\": \"Roboto, Arial, sans-serif\", \"fontSize\": 12, \"fontWeight\": \"normal\", \"tooltip\": null}, \"encoding\": {\"text\": {\"value\": \"The metric value for any group should not be 1.25 (or more) times smaller or larger than that of the reference group White.\"}, \"x\": {\"value\": 0}, \"y\": {\"value\": 373.3333333333333}}}], \"data\": {\"name\": \"data-de84bc8c822dac0bd3b12b0342548471\"}}], \"data\": {\"name\": \"data-f6c9b01b2d2ca106ef2a532bc000e3e1\"}}, {\"layer\": [{\"data\": {\"name\": \"empty\"}, \"mark\": {\"type\": \"circle\"}}, {\"data\": {\"name\": \"data-509597739f52873e476d84c15cd8cdb4\"}, \"mark\": {\"type\": \"circle\", \"cursor\": \"pointer\", \"opacity\": 0.2}, \"encoding\": {\"color\": {\"condition\": {\"param\": \"param_1\", \"empty\": true, \"field\": \"attribute_value\", \"legend\": null, \"scale\": {\"domain\": [\"White\", \"Asian/PI\", \"Black\", \"Native American\", \"Unknown\"], \"range\": [\"rgb(102, 111, 137)\", \"rgb(76, 136, 238)\", \"rgb(254, 97, 0)\", \"rgb(220, 38, 127)\", \"rgb(255, 176, 0)\", \"rgb(150, 95, 230)\"]}, \"type\": \"nominal\"}, \"value\": \"rgb(225, 226, 231)\"}, \"size\": {\"field\": \"group_size\", \"legend\": null, \"scale\": {\"domain\": [0, 51345.6], \"range\": [0, 5026.548245743669]}, \"type\": \"quantitative\"}, \"tooltip\": [{\"field\": \"attribute_value\", \"title\": \"Group\", \"type\": \"nominal\"}, {\"field\": \"tooltip_group_size\", \"title\": \"Group Size\", \"type\": \"nominal\"}, {\"field\": \"tooltip_disparity_explanation_pprev\", \"title\": \"Disparity\", \"type\": \"nominal\"}, {\"field\": \"pprev\", \"format\": \".2f\", \"title\": \"PPREV\", \"type\": \"quantitative\"}], \"x\": {\"axis\": {\"domain\": false, \"gridColor\": \"rgb(225, 226, 231)\", \"labels\": false, \"ticks\": false, \"title\": null, \"values\": [1, 2, -2, -1]}, \"field\": \"pprev_disparity_scaled\", \"scale\": {\"domain\": [-2, 2], \"range\": [40.0, 760.0]}, \"type\": \"quantitative\"}, \"y\": {\"axis\": {\"domain\": false, \"grid\": false, \"labels\": false, \"ticks\": false, \"title\": null}, \"field\": \"metric_variable\", \"scale\": {\"domain\": [\"PPREV\", \"FNR\"], \"range\": [40.0, 360.0]}, \"type\": \"nominal\"}}, \"name\": \"view_2\", \"transform\": [{\"calculate\": \"'PPREV'\", \"as\": \"metric_variable\"}]}, {\"data\": {\"name\": \"data-509597739f52873e476d84c15cd8cdb4\"}, \"mark\": {\"type\": \"circle\", \"cursor\": \"pointer\", \"opacity\": 0.2}, \"encoding\": {\"color\": {\"condition\": {\"param\": \"param_1\", \"empty\": true, \"field\": \"attribute_value\", \"legend\": null, \"scale\": {\"domain\": [\"White\", \"Asian/PI\", \"Black\", \"Native American\", \"Unknown\"], \"range\": [\"rgb(102, 111, 137)\", \"rgb(76, 136, 238)\", \"rgb(254, 97, 0)\", \"rgb(220, 38, 127)\", \"rgb(255, 176, 0)\", \"rgb(150, 95, 230)\"]}, \"type\": \"nominal\"}, \"value\": \"rgb(225, 226, 231)\"}, \"size\": {\"field\": \"group_size\", \"legend\": null, \"scale\": {\"domain\": [0, 51345.6], \"range\": [0, 5026.548245743669]}, \"type\": \"quantitative\"}, \"tooltip\": [{\"field\": \"attribute_value\", \"title\": \"Group\", \"type\": \"nominal\"}, {\"field\": \"tooltip_group_size\", \"title\": \"Group Size\", \"type\": \"nominal\"}, {\"field\": \"tooltip_disparity_explanation_fnr\", \"title\": \"Disparity\", \"type\": \"nominal\"}, {\"field\": \"fnr\", \"format\": \".2f\", \"title\": \"FNR\", \"type\": \"quantitative\"}], \"x\": {\"axis\": {\"domain\": false, \"gridColor\": \"rgb(225, 226, 231)\", \"labels\": false, \"ticks\": false, \"title\": null, \"values\": [1, 2, -2, -1]}, \"field\": \"fnr_disparity_scaled\", \"scale\": {\"domain\": [-2, 2], \"range\": [40.0, 760.0]}, \"type\": \"quantitative\"}, \"y\": {\"axis\": {\"domain\": false, \"grid\": false, \"labels\": false, \"ticks\": false, \"title\": null}, \"field\": \"metric_variable\", \"scale\": {\"domain\": [\"PPREV\", \"FNR\"], \"range\": [40.0, 360.0]}, \"type\": \"nominal\"}}, \"name\": \"view_4\", \"transform\": [{\"calculate\": \"'FNR'\", \"as\": \"metric_variable\"}]}, {\"layer\": [{\"data\": {\"name\": \"empty\"}, \"mark\": {\"type\": \"point\"}}, {\"data\": {\"name\": \"data-509597739f52873e476d84c15cd8cdb4\"}, \"mark\": {\"type\": \"point\", \"cursor\": \"pointer\", \"filled\": true, \"size\": 60}, \"encoding\": {\"color\": {\"condition\": {\"param\": \"param_1\", \"empty\": true, \"field\": \"attribute_value\", \"legend\": null, \"scale\": {\"domain\": [\"White\", \"Asian/PI\", \"Black\", \"Native American\", \"Unknown\"], \"range\": [\"rgb(102, 111, 137)\", \"rgb(76, 136, 238)\", \"rgb(254, 97, 0)\", \"rgb(220, 38, 127)\", \"rgb(255, 176, 0)\", \"rgb(150, 95, 230)\"]}, \"type\": \"nominal\"}, \"value\": \"rgb(225, 226, 231)\"}, \"shape\": {\"field\": \"attribute_value\", \"legend\": null, \"scale\": {\"domain\": [\"White\", \"Asian/PI\", \"Black\", \"Native American\", \"Unknown\"], \"range\": [\"cross\", \"circle\", \"circle\", \"circle\", \"circle\"]}, \"type\": \"nominal\"}, \"tooltip\": [{\"field\": \"attribute_value\", \"title\": \"Group\", \"type\": \"nominal\"}, {\"field\": \"tooltip_group_size\", \"title\": \"Group Size\", \"type\": \"nominal\"}, {\"field\": \"tooltip_disparity_explanation_pprev\", \"title\": \"Disparity\", \"type\": \"nominal\"}, {\"field\": \"pprev\", \"format\": \".2f\", \"title\": \"PPREV\", \"type\": \"quantitative\"}], \"x\": {\"axis\": {\"domain\": false, \"gridColor\": \"rgb(225, 226, 231)\", \"labels\": false, \"ticks\": false, \"title\": null, \"values\": [1, 2, -2, -1]}, \"field\": \"pprev_disparity_scaled\", \"scale\": {\"domain\": [-2, 2], \"range\": [40.0, 760.0]}, \"type\": \"quantitative\"}, \"y\": {\"axis\": {\"domain\": false, \"grid\": false, \"labels\": false, \"ticks\": false, \"title\": null}, \"field\": \"metric_variable\", \"scale\": {\"domain\": [\"PPREV\", \"FNR\"], \"range\": [40.0, 360.0]}, \"type\": \"nominal\"}}, \"name\": \"view_1\", \"transform\": [{\"calculate\": \"'PPREV'\", \"as\": \"metric_variable\"}]}, {\"data\": {\"name\": \"data-509597739f52873e476d84c15cd8cdb4\"}, \"mark\": {\"type\": \"point\", \"cursor\": \"pointer\", \"filled\": true, \"size\": 60}, \"encoding\": {\"color\": {\"condition\": {\"param\": \"param_1\", \"empty\": true, \"field\": \"attribute_value\", \"legend\": null, \"scale\": {\"domain\": [\"White\", \"Asian/PI\", \"Black\", \"Native American\", \"Unknown\"], \"range\": [\"rgb(102, 111, 137)\", \"rgb(76, 136, 238)\", \"rgb(254, 97, 0)\", \"rgb(220, 38, 127)\", \"rgb(255, 176, 0)\", \"rgb(150, 95, 230)\"]}, \"type\": \"nominal\"}, \"value\": \"rgb(225, 226, 231)\"}, \"shape\": {\"field\": \"attribute_value\", \"legend\": null, \"scale\": {\"domain\": [\"White\", \"Asian/PI\", \"Black\", \"Native American\", \"Unknown\"], \"range\": [\"cross\", \"circle\", \"circle\", \"circle\", \"circle\"]}, \"type\": \"nominal\"}, \"tooltip\": [{\"field\": \"attribute_value\", \"title\": \"Group\", \"type\": \"nominal\"}, {\"field\": \"tooltip_group_size\", \"title\": \"Group Size\", \"type\": \"nominal\"}, {\"field\": \"tooltip_disparity_explanation_fnr\", \"title\": \"Disparity\", \"type\": \"nominal\"}, {\"field\": \"fnr\", \"format\": \".2f\", \"title\": \"FNR\", \"type\": \"quantitative\"}], \"x\": {\"axis\": {\"domain\": false, \"gridColor\": \"rgb(225, 226, 231)\", \"labels\": false, \"ticks\": false, \"title\": null, \"values\": [1, 2, -2, -1]}, \"field\": \"fnr_disparity_scaled\", \"scale\": {\"domain\": [-2, 2], \"range\": [40.0, 760.0]}, \"type\": \"quantitative\"}, \"y\": {\"axis\": {\"domain\": false, \"grid\": false, \"labels\": false, \"ticks\": false, \"title\": null}, \"field\": \"metric_variable\", \"scale\": {\"domain\": [\"PPREV\", \"FNR\"], \"range\": [40.0, 360.0]}, \"type\": \"nominal\"}}, \"name\": \"view_3\", \"transform\": [{\"calculate\": \"'FNR'\", \"as\": \"metric_variable\"}]}]}]}, {\"layer\": [{\"mark\": {\"type\": \"point\", \"cursor\": \"pointer\", \"filled\": true, \"opacity\": 1, \"size\": 40}, \"encoding\": {\"color\": {\"condition\": {\"param\": \"param_1\", \"empty\": true, \"field\": \"attribute_value\", \"legend\": null, \"scale\": {\"domain\": [\"White\", \"Asian/PI\", \"Black\", \"Native American\", \"Unknown\"], \"range\": [\"rgb(102, 111, 137)\", \"rgb(76, 136, 238)\", \"rgb(254, 97, 0)\", \"rgb(220, 38, 127)\", \"rgb(255, 176, 0)\", \"rgb(150, 95, 230)\"]}, \"type\": \"nominal\"}, \"value\": \"rgb(225, 226, 231)\"}, \"shape\": {\"field\": \"attribute_value\", \"legend\": null, \"scale\": {\"domain\": [\"White\", \"Asian/PI\", \"Black\", \"Native American\", \"Unknown\"], \"range\": [\"cross\", \"circle\", \"circle\", \"circle\", \"circle\"]}, \"type\": \"nominal\"}, \"x\": {\"value\": 807.5682482323056}, \"y\": {\"axis\": {\"domain\": false, \"grid\": false, \"labels\": false, \"ticks\": false, \"title\": null}, \"field\": \"attribute_value\", \"scale\": {\"domain\": [\"White\", \"Asian/PI\", \"Black\", \"Native American\", \"Unknown\"], \"range\": [54, 134]}, \"type\": \"nominal\"}}, \"name\": \"view_5\"}, {\"mark\": {\"type\": \"text\", \"align\": \"left\", \"baseline\": \"middle\", \"cursor\": \"pointer\", \"font\": \"Roboto, Arial, sans-serif\", \"fontSize\": 12, \"fontWeight\": \"normal\"}, \"encoding\": {\"color\": {\"condition\": {\"param\": \"param_1\", \"empty\": true, \"field\": \"attribute_value\", \"legend\": null, \"scale\": {\"domain\": [\"White\", \"Asian/PI\", \"Black\", \"Native American\", \"Unknown\"], \"range\": [\"rgb(102, 111, 137)\", \"rgb(76, 136, 238)\", \"rgb(254, 97, 0)\", \"rgb(220, 38, 127)\", \"rgb(255, 176, 0)\", \"rgb(150, 95, 230)\"]}, \"type\": \"nominal\"}, \"value\": \"rgb(225, 226, 231)\"}, \"text\": {\"field\": \"label\", \"type\": \"nominal\"}, \"x\": {\"value\": 818.1364964646111}, \"y\": {\"axis\": {\"domain\": false, \"grid\": false, \"labels\": false, \"ticks\": false, \"title\": null}, \"field\": \"attribute_value\", \"scale\": {\"domain\": [\"White\", \"Asian/PI\", \"Black\", \"Native American\", \"Unknown\"], \"range\": [54, 134]}, \"type\": \"nominal\"}}, \"name\": \"view_6\"}, {\"data\": {\"name\": \"data-de84bc8c822dac0bd3b12b0342548471\"}, \"mark\": {\"type\": \"text\", \"align\": \"left\", \"baseline\": \"top\", \"color\": \"rgb(25, 39, 78)\", \"font\": \"Roboto, Arial, sans-serif\", \"fontSize\": 12, \"fontWeight\": \"bold\"}, \"encoding\": {\"text\": {\"value\": \"(click to highlight)\"}, \"x\": {\"value\": 800}, \"y\": {\"value\": 34}}}, {\"data\": {\"name\": \"data-de84bc8c822dac0bd3b12b0342548471\"}, \"mark\": {\"type\": \"text\", \"align\": \"left\", \"baseline\": \"top\", \"color\": \"rgb(25, 39, 78)\", \"font\": \"Roboto, Arial, sans-serif\", \"fontSize\": 12, \"fontWeight\": \"bold\"}, \"encoding\": {\"text\": {\"value\": \"Groups\"}, \"x\": {\"value\": 800}, \"y\": {\"value\": 20}}}], \"data\": {\"name\": \"data-366d2851ea7723f84e16ec1ddac3bfbd\"}}], \"height\": 400, \"padding\": {\"top\": 15, \"bottom\": -1.0, \"left\": 15, \"right\": 15}, \"params\": [{\"name\": \"param_3\", \"select\": {\"type\": \"point\", \"fields\": [\"attribute_value\"]}, \"views\": [\"view_2\"]}, {\"name\": \"param_5\", \"select\": {\"type\": \"point\", \"fields\": [\"attribute_value\"]}, \"views\": [\"view_4\"]}, {\"name\": \"param_2\", \"select\": {\"type\": \"point\", \"fields\": [\"attribute_value\"]}, \"views\": [\"view_1\"]}, {\"name\": \"param_4\", \"select\": {\"type\": \"point\", \"fields\": [\"attribute_value\"]}, \"views\": [\"view_3\"]}, {\"name\": \"param_1\", \"select\": {\"type\": \"point\", \"fields\": [\"attribute_value\"]}, \"views\": [\"view_5\"]}, {\"name\": \"param_6\", \"select\": {\"type\": \"point\", \"fields\": [\"attribute_value\"]}, \"views\": [\"view_6\"]}], \"resolve\": {\"scale\": {\"size\": \"independent\", \"y\": \"independent\"}}, \"title\": \"Disparities on Race\", \"usermeta\": {\"embedOptions\": {\"scaleFactor\": 5, \"downloadFileName\": \"disparity_chart\"}}, \"width\": 800, \"$schema\": \"https://vega.github.io/schema/vega-lite/v5.17.0.json\", \"datasets\": {\"data-21a790b78e9f916080a327ed58838389\": [{\"metric\": \"PPREV\", \"x\": -2, \"x2\": 2}, {\"metric\": \"FNR\", \"x\": -2, \"x2\": 2}], \"data-de84bc8c822dac0bd3b12b0342548471\": [{\"a\": 1, \"b\": 0}, {\"a\": 1, \"b\": 0}], \"data-5301160e2632d994a912fb62c574b38d\": [{\"value\": 1, \"label\": 2}, {\"value\": 2, \"label\": 3}, {\"value\": -2, \"label\": 3}, {\"value\": -1, \"label\": 2}, {\"value\": 0, \"label\": \"=\"}], \"data-f6c9b01b2d2ca106ef2a532bc000e3e1\": [{\"min\": -0.25, \"max\": 0.25, \"lower_end\": -2, \"upper_end\": 2}], \"empty\": [{}], \"data-509597739f52873e476d84c15cd8cdb4\": [{\"attribute_name\": \"race\", \"attribute_value\": \"Asian/PI\", \"group_size\": 4155, \"total_entities\": 59490, \"pprev\": 0.7535499398315283, \"fnr\": 0.21012658227848102, \"pprev_disparity\": 1.2529784644429889, \"fnr_disparity\": 0.6113803622515697, \"pprev_disparity_scaled\": 0.2529784644429889, \"fnr_disparity_scaled\": -0.6356429838819746, \"tooltip_group_size\": \"4,155 (6.98%)\", \"tooltip_disparity_explanation_pprev\": \"1.25 times larger PPREV than the reference group\", \"tooltip_disparity_explanation_fnr\": \"1.64 times smaller FNR than the reference group\"}, {\"attribute_name\": \"race\", \"attribute_value\": \"Black\", \"group_size\": 3999, \"total_entities\": 59490, \"pprev\": 0.3633408352088022, \"fnr\": 0.552482715273413, \"pprev_disparity\": 0.6041513875923612, \"fnr_disparity\": 1.6074933449111815, \"pprev_disparity_scaled\": -0.655214273338274, \"fnr_disparity_scaled\": 0.6074933449111815, \"tooltip_group_size\": \"3,999 (6.72%)\", \"tooltip_disparity_explanation_pprev\": \"1.66 times smaller PPREV than the reference group\", \"tooltip_disparity_explanation_fnr\": \"1.61 times larger FNR than the reference group\"}, {\"attribute_name\": \"race\", \"attribute_value\": \"Native American\", \"group_size\": 227, \"total_entities\": 59490, \"pprev\": 0.4581497797356828, \"fnr\": 0.4824120603015075, \"pprev_disparity\": 0.7617966337127579, \"fnr_disparity\": 1.4036170815874263, \"pprev_disparity_scaled\": -0.3126862941442963, \"fnr_disparity_scaled\": 0.40361708158742626, \"tooltip_group_size\": \"227 (0.38%)\", \"tooltip_disparity_explanation_pprev\": \"1.31 times smaller PPREV than the reference group\", \"tooltip_disparity_explanation_fnr\": \"1.40 times larger FNR than the reference group\"}, {\"attribute_name\": \"race\", \"attribute_value\": \"Unknown\", \"group_size\": 8321, \"total_entities\": 59490, \"pprev\": 0.6339382285782958, \"fnr\": 0.30794614572333684, \"pprev_disparity\": 1.0540919801192292, \"fnr_disparity\": 0.8959943291553227, \"pprev_disparity_scaled\": 0.05409198011922922, \"fnr_disparity_scaled\": -0.11607849230778733, \"tooltip_group_size\": \"8,321 (13.99%)\", \"tooltip_disparity_explanation_pprev\": \"1.05 times larger PPREV than the reference group\", \"tooltip_disparity_explanation_fnr\": \"1.12 times smaller FNR than the reference group\"}, {\"attribute_name\": \"race\", \"attribute_value\": \"White\", \"group_size\": 42788, \"total_entities\": 59490, \"pprev\": 0.6014069365242591, \"fnr\": 0.34369207003089597, \"pprev_disparity\": 1.0, \"fnr_disparity\": 1.0, \"pprev_disparity_scaled\": 0.0, \"fnr_disparity_scaled\": 0.0, \"tooltip_group_size\": \"42,788 (71.92%)\", \"tooltip_disparity_explanation_pprev\": \"Reference group\", \"tooltip_disparity_explanation_fnr\": \"Reference group\"}], \"data-366d2851ea7723f84e16ec1ddac3bfbd\": [{\"attribute_value\": \"White\", \"label\": \"White [REF]\"}, {\"attribute_value\": \"Asian/PI\", \"label\": \"Asian/PI\"}, {\"attribute_value\": \"Black\", \"label\": \"Black\"}, {\"attribute_value\": \"Native American\", \"label\": \"Native American\"}, {\"attribute_value\": \"Unknown\", \"label\": \"Unknown\"}]}}, {\"mode\": \"vega-lite\"});\n",
       "</script>"
      ],
      "text/plain": [
       "alt.LayerChart(...)"
      ]
     },
     "execution_count": 17,
     "metadata": {},
     "output_type": "execute_result"
    }
   ],
   "source": [
    "import aequitas.plot as ap\n",
    "\n",
    "ap.disparity(\n",
    "    disparity_df=bias_report,\n",
    "    metrics_list=['pprev', 'fnr'],\n",
    "    attribute='race',\n",
    "    fairness_threshold=5/4,\n",
    ")"
   ]
  },
  {
   "cell_type": "markdown",
   "metadata": {
    "collapsed": false,
    "pycharm": {
     "name": "#%% md\n"
    }
   },
   "source": [
    "### Measuring Group Fairness with AI Fairness 360"
   ]
  },
  {
   "cell_type": "markdown",
   "metadata": {
    "collapsed": false,
    "pycharm": {
     "name": "#%% md\n"
    }
   },
   "source": [
    "We next show how to calculate several group fairness metrics using IBM's AI Fairness 360 Toolkit (\"AIF 360\").  While there are many similarities across Aequitas and AIF 360, each package has its own set of features that make it valuable.  Aequitas's simultanious creation of many metrics is advantageous in a situation where a user will want to create a report comparing metrics.  Its graphing functionality (subject to the caveats listed above) also makes it a lower-code way to create and display information on fairness.  On the other hand, AIF 360 has significant additional functionality in the form of a robust selection of pre-processing, in-processing, and post-processing algorithms that help to mitigate disparities. These methods will be discussed in later chapters.  As is shown in the last example below, it also has the ability to make arbitrary fairness metrics following the `sklearn.metric` API structure.  \n",
    "\n",
    "Being able to try to mitigate any fairness problems found is a crucial step in any robust AI pipeline.  Given the algorithms that perform this that are available in AIF 360's package, it is important for the user to understand how to prepare data and test it using the AIF 360 fairness metric functionality.  "
   ]
  },
  {
   "cell_type": "markdown",
   "metadata": {
    "collapsed": false,
    "pycharm": {
     "name": "#%% md\n"
    }
   },
   "source": [
    "\n",
    "#### Preparing Data for use in AIF 360\n",
    "\n",
    "In order to use AIF 360's metrics, we need to create a pandas frame that has no missing values for group status, and set an index equal to dummy variables (i.e., 0's or 1's) that indicate membership in a class.  Unfortunately, if there is more than one class in a group characteristic, such as the multiple values possible for race, AIF 360 can only run one class comparison at a time.  Becaus of this, below only Black or African American applicants will be compared to White applicants.  While it is further worth noting that multiple groups (e.g., race and sex) can be setup to be assessed at the same time, if missing values for these different groups do not align then the results will not be correct.\n",
    "\n",
    "Somewhat confusingly relative to other packages, when setting up the data, one will want to set the dummy variable for the reference group as the index value to be assessed.  Not doing this will lead the results to be the exact opposite of what is intended.  In the case of the adverse impact ratio, if one weere to pass `black` into the index and run the metrics, then the resulting fairness metric would be the inverse of the correct metric.  Not realizing this might lead one to assume there are favorable outcomes for a protected group, rather than unfavorable outcomes."
   ]
  },
  {
   "cell_type": "code",
   "execution_count": 22,
   "metadata": {
    "collapsed": false,
    "pycharm": {
     "name": "#%%\n"
    }
   },
   "outputs": [],
   "source": [
    "aif_valid = valid.loc[(valid['Black'] + valid['White'] == 1), :]\n",
    "aif_valid = aif_valid.set_index(keys=['White'], append=True, drop=False)"
   ]
  },
  {
   "cell_type": "markdown",
   "metadata": {
    "pycharm": {
     "name": "#%% md\n"
    }
   },
   "source": [
    "AIF 360 has two ways to calculate fairness metrics.  One is through a native API call, `aif360.metrics`, the other is through a `scikit-learn` style API.  Below, the adverse impact ratio, which AIF 360 refers to as the \"Disparate Impact Ratio\" is called using the `sklearn.metric` functionality.  As expected, the results are identical to what was achieved above using both the hand-written code as well as the Aequitas-based code."
   ]
  },
  {
   "cell_type": "code",
   "execution_count": 23,
   "metadata": {
    "collapsed": false,
    "pycharm": {
     "name": "#%%\n"
    }
   },
   "outputs": [
    {
     "name": "stderr",
     "output_type": "stream",
     "text": [
      "WARNING:root:No module named 'inFairness': SenSeI and SenSR will be unavailable. To install, run:\n",
      "pip install 'aif360[inFairness]'\n",
      "WARNING:root:No module named 'ot': ot_distance will be unavailable. To install, run:\n",
      "pip install 'aif360[OptimalTransport]'\n"
     ]
    },
    {
     "name": "stdout",
     "output_type": "stream",
     "text": [
      "Adverse Impact Ratio (AIR): 60.415%\n"
     ]
    }
   ],
   "source": [
    "from aif360.sklearn import metrics as aif_metrics\n",
    "\n",
    "aif_adverse_impact_ratio = aif_metrics.disparate_impact_ratio(\n",
    "    aif_valid['Low-Priced Offer'], \n",
    "    prot_attr=['White'],\n",
    ")\n",
    "print(f\"Adverse Impact Ratio (AIR): {aif_adverse_impact_ratio:0.3%}\")"
   ]
  },
  {
   "cell_type": "markdown",
   "metadata": {
    "pycharm": {
     "name": "#%% md\n"
    }
   },
   "source": [
    "Fairness metrics can typically be categorized as ones that are based on differences in metrics between protected and reference classes (e.g., marginal effects and SMD), and those that are based on ratios of protected to reference classes (e.g., AIRs and false negative rate ratios).  Helpfully, AIF 360 has generic functions that can calculate differences or ratios of any AIF 360 or standard scikit-learn metric.  These can be accessed via `metrics.difference` and `metrics.ratio` from `aif360.sklearn`.  This functionality can be particularly helpful if a user wants to test disparities for a novel metric that has not been coded into AIF 360 or Aequitas.  The code below calculates the false negative rate ratio by calling AIF 360's false negative rate function.  As expected, the results match those calculated using Aequitas."
   ]
  },
  {
   "cell_type": "code",
   "execution_count": 24,
   "metadata": {
    "pycharm": {
     "name": "#%%\n"
    }
   },
   "outputs": [
    {
     "name": "stdout",
     "output_type": "stream",
     "text": [
      "False Negative Rate Ratio: 1.607\n"
     ]
    }
   ],
   "source": [
    "aif_fnr = aif_metrics.ratio(\n",
    "    aif_metrics.false_negative_rate_error, \n",
    "    aif_valid[label], \n",
    "    aif_valid['Low-Priced Offer'], \n",
    "    prot_attr='White',\n",
    ")\n",
    "print(\n",
    "    f\"False Negative Rate Ratio: {aif_fnr:0.3f}\"\n",
    ")"
   ]
  },
  {
   "cell_type": "markdown",
   "metadata": {
    "pycharm": {
     "name": "#%% md\n"
    }
   },
   "source": [
    "Although a relative ROC-AUC score would likely not be considered a group fairness metric by most practioners, below the code required to calculate this metric is presented in order to show how one can implement an arbitrary scikit-learn metric utilizing AIF 360."
   ]
  },
  {
   "cell_type": "code",
   "execution_count": 26,
   "metadata": {
    "pycharm": {
     "name": "#%%\n"
    }
   },
   "outputs": [
    {
     "name": "stdout",
     "output_type": "stream",
     "text": [
      "Relative ROC-AUC Scores for Blacks and Whites: 0.932\n"
     ]
    }
   ],
   "source": [
    "from sklearn import metrics as sklearn_metrics\n",
    "\n",
    "relative_auc_ratio = aif_metrics.ratio(\n",
    "    sklearn_metrics.roc_auc_score, \n",
    "    aif_valid[label], \n",
    "    aif_valid['Prediction'], \n",
    "    prot_attr='White',\n",
    ")\n",
    "print(f\"Relative ROC-AUC Scores for Blacks and Whites: {relative_auc_ratio:0.3f}\")"
   ]
  },
  {
   "attachments": {},
   "cell_type": "markdown",
   "metadata": {},
   "source": [
    "### Measuring Group Fairness with SolasAI\n",
    "\n",
    "Of the three packages discussed in this chapter, `SolasAI` is the most complete in terms of being able to combine all of the concepts discussed above with minimal additional effort.  The package can run most commonly used measures of group fairness, including the AIR and SMD, calculate various confusion-matrix based statistics such as relative false positive and false negative rates, and also allows for a user-defined function. In addition to calculating the metrics, SolasAI also automatically calculates statistical and practical significance.  It further provides charting and customization that allow the user to set variable and chart names, so that it can easily be used in production across use cases. SolasAI also handles proportional estimation of class status, which means that it can be used with probability estimates of class membership, rather than just with binary outcomes. Finally, SolasAI also handles missing values internally, so you don't have to subset dataframes for rows where there is missing class information. SolasAI is available via the standard pypi repository, and can be downloaded with pip:\n",
    "\n",
    "```pip install solas-ai```\n",
    "\n",
    "#### Preprocessing Data for SolasAI\n",
    "\n",
    "Preprocessing data for SolasAI is fairly straightforward.  However, unlike the other packages, SolasAI requires each class to be represented by its own variable.  For example, if we are analyzing race differences for Blacks, Asians, and Whites, and Other Races, four variables would be required: one for Black, one for Asian, one for white, and one for Other Races. The values of these variables can be binary 0/1, boolean, or, if class status is proportional, the variables can be probability estimates of class membership.\n",
    "\n",
    "Below, we create the variables used by SolasAI to measure disparities.  First, we calculate the counts by ethnicity and race.  After that, we create the 0/1 variables that identify particular classes.  Notice that we do not code all possible combinations: for ethnicity, we do not code \"Unknown.\"  For race, we only encode Black, Asian, and white.  We do this here to highlight the fact that there are times when a user will only want to review certain comparisons and SolasAI can automatically handle these types of comparisons. For example, in practice, observations that do not have an identified group status (that is, those that are classified as \"Unknown\" here) are rarely analyzed or included in any reporting. "
   ]
  },
  {
   "cell_type": "code",
   "execution_count": 27,
   "metadata": {},
   "outputs": [
    {
     "name": "stdout",
     "output_type": "stream",
     "text": [
      "Non-Hispanic    44966\n",
      "Unknown          8306\n",
      "Hispanic         6218\n",
      "Name: ethnicity, dtype: int64\n",
      "\n",
      "White              42788\n",
      "Unknown             8321\n",
      "Asian/PI            4155\n",
      "Black               3999\n",
      "Native American      227\n",
      "Name: race, dtype: int64\n"
     ]
    }
   ],
   "source": [
    "print(f\"{valid['ethnicity'].value_counts()}\")\n",
    "print(f\"\\n{valid['race'].value_counts()}\")"
   ]
  },
  {
   "attachments": {},
   "cell_type": "markdown",
   "metadata": {},
   "source": [
    "The code below creates the 0/1 categorical variables. If we wanted to get categorical variables for all possible values, this can be done easily with the `pd.get_dummies()` function. After we create the variables, we test that the coding was done properly by summing the new columns and comparing the totals to the counts above.  Here, we see that all of the values encoded have the same sums and counts, so we can assume that the encoding was successful."
   ]
  },
  {
   "cell_type": "code",
   "execution_count": null,
   "metadata": {},
   "outputs": [],
   "source": [
    "# valid.loc[valid['ethnicity'] == 'Hispanic', 'hispanic'] = 1\n",
    "# valid.loc[valid['ethnicity'] == 'Non-Hispanic', 'hispanic'] = 0\n",
    "# valid['non-hispanic'] = 1 - valid['hispanic']\n",
    "\n",
    "# valid.loc[valid['race'] == 'Black', 'Black'] = 1\n",
    "# valid.loc[valid['race'] == 'Asian', 'Asian'] = 1\n",
    "# valid.loc[valid['race'] == 'White', 'White'] = 1\n",
    "# valid.loc[valid['race'].isin(['Black', 'Asian']), 'White'] = 0\n",
    "# valid.loc[valid['race'].isin(['Black', 'White']), 'Asian'] = 0\n",
    "# valid.loc[valid['race'].isin(['White', 'Asian']), 'Black'] = 0\n",
    "\n",
    "# print(f\"{valid[['hispanic', 'non-hispanic', 'Black', 'White', 'Asian']].sum()}\")\n"
   ]
  },
  {
   "attachments": {},
   "cell_type": "markdown",
   "metadata": {},
   "source": [
    "\n",
    "#### Calculating Group Fairness with SolasAI\n",
    "\n",
    "The first metric we calculate is the adverse impact ratio. To do this in SolasAI, one specifies lists of `protected_groups`, `reference_groups`, and `group_categories`. Each element of these three lists corresponds to a specific comparison. Using the code below, the first element in the three lists are \"Black\", \"White\", and \"Race\".  This means that we are going to compare Blacks to Whites, and that comparison is along the dimensions of race.  The second element of each list compares \"Asian\" to \"White\". We see that it is also a comparison of \"Race\". Finally, the third elements of the three lists are \"female\", \"male\", and \"Gender\". This means we are performing a comparison of \"Gender\" where we assess whether there are disparities for women relative to men. The data where the protected and reference group information is located is sent into the `group_data` argument. Here, we are analyzing data in the validation dataset, so we set `group_data=valid`. In SolasAI, the variable that is being analyzed is called the `outcome` variable. Since the calculation of the AIR requires a binary outcome, we set outcome equal to the validation set's `Low Priced Offer` variable. Importantly, for the SolasAI AIR function, it is assumed that `outcome=1` is favorable and `outcome=0` is unfavorable. \n",
    "\n",
    "Finally, we specify two measures of practical significance for the AIR. The first is the AIR threshold, which was discussed above. Here, any AIR that falls below the set value (in this case, 0.80) would be considered practically significant if it is also statistically significant. Second, we set a `percent_difference_threshold`, which says that a result cannot be practically significant unless the raw average difference exceeds a set value. For example, suppose we set `percent_difference_threshold=0.05` and `air_threshold=0.80`. Further suppose that 10% of white applicants receve an offer, but only 7% of Black applicants receive an offer. The AIR here is 0.70, which would be significant under the air threshold value of 0.80. However, the 3% raw difference in offer rates (3% = 10% - 7%) is less than the percent difference threshold of 0.05. Because of this, this result would not be considered practically significant. In our experience, it is relatively rare for users to specify a percent difference threshold, so in our code we set that to zero, which means that it will never be binding.\n",
    "\n",
    "While the user sets the practical significance thresholds, SolasAI automatically calculates and determines statistical significance. This is done using a two-tailed 5% test (or, equivilently, a one-tailed 2.5% test). In the AIR calculation, if there are few people in the comparison, then statistical significance is calculated using a Fisher's exact test. When there are a large number of people in the dataset, then a chi-squared test is used."
   ]
  },
  {
   "cell_type": "code",
   "execution_count": 30,
   "metadata": {},
   "outputs": [],
   "source": [
    "protected_groups = ['Black', 'Asian/PI', 'Native American', 'Hispanic', 'Female']\n",
    "reference_groups = ['White'] * 3 + ['Non-Hispanic', 'Male']\n",
    "group_categories = ['Race'] * 3 + ['Ethnicity', 'Sex']"
   ]
  },
  {
   "cell_type": "code",
   "execution_count": 31,
   "metadata": {},
   "outputs": [],
   "source": [
    "import solas_disparity as sd"
   ]
  },
  {
   "cell_type": "code",
   "execution_count": 32,
   "metadata": {},
   "outputs": [
    {
     "data": {
      "text/markdown": [
       "## Disparity Calculation: Adverse Impact Ratio"
      ],
      "text/plain": [
       "<IPython.core.display.Markdown object>"
      ]
     },
     "metadata": {},
     "output_type": "display_data"
    },
    {
     "data": {
      "text/html": [
       "<pre style=\"white-space:pre;overflow-x:auto;line-height:normal;font-family:Menlo,'DejaVu Sans Mono',consolas,'Courier New',monospace\">┌─────────────────────────────────────────┬───────────────────────────────────────────────────────────────────────┐\n",
       "│ Protected Groups                        │ Black, Asian/PI, Native American, Hispanic, Female                    │\n",
       "│ Reference Groups                        │ White, White, White, Non-Hispanic, Male                               │\n",
       "│ Group Categories                        │ Race, Race, Race, Ethnicity, Sex                                      │\n",
       "│ AIR Threshold                           │ 0.8                                                                   │\n",
       "│ Percent Difference Threshold            │ 0.0                                                                   │\n",
       "│ Shortfall Method                        │ to_reference_mean                                                     │\n",
       "│ Affected Groups                         │ Black, Native American, Hispanic                                      │\n",
       "│ Affected Reference                      │ White, White, Non-Hispanic                                            │\n",
       "│ Affected Categories                     │ Race, Race, Ethnicity                                                 │\n",
       "└─────────────────────────────────────────┴───────────────────────────────────────────────────────────────────────┘\n",
       "</pre>\n"
      ],
      "text/plain": [
       "┌─────────────────────────────────────────┬───────────────────────────────────────────────────────────────────────┐\n",
       "│ Protected Groups                        │ Black, Asian/PI, Native American, Hispanic, Female                    │\n",
       "│ Reference Groups                        │ White, White, White, Non-Hispanic, Male                               │\n",
       "│ Group Categories                        │ Race, Race, Race, Ethnicity, Sex                                      │\n",
       "│ AIR Threshold                           │ 0.8                                                                   │\n",
       "│ Percent Difference Threshold            │ 0.0                                                                   │\n",
       "│ Shortfall Method                        │ to_reference_mean                                                     │\n",
       "│ Affected Groups                         │ Black, Native American, Hispanic                                      │\n",
       "│ Affected Reference                      │ White, White, Non-Hispanic                                            │\n",
       "│ Affected Categories                     │ Race, Race, Ethnicity                                                 │\n",
       "└─────────────────────────────────────────┴───────────────────────────────────────────────────────────────────────┘\n"
      ]
     },
     "metadata": {},
     "output_type": "display_data"
    },
    {
     "data": {
      "text/markdown": [
       "## Adverse Impact Ratio Summary Table"
      ],
      "text/plain": [
       "<IPython.core.display.Markdown object>"
      ]
     },
     "metadata": {},
     "output_type": "display_data"
    },
    {
     "data": {
      "text/markdown": [
       "\\* Percent Missing: Ethnicity: 13.96%, Race: 13.99%, Sex: 46.07%"
      ],
      "text/plain": [
       "<IPython.core.display.Markdown object>"
      ]
     },
     "metadata": {},
     "output_type": "display_data"
    },
    {
     "data": {
      "text/html": [
       "<div>\n",
       "<style scoped>\n",
       "    .dataframe tbody tr th:only-of-type {\n",
       "        vertical-align: middle;\n",
       "    }\n",
       "\n",
       "    .dataframe tbody tr th {\n",
       "        vertical-align: top;\n",
       "    }\n",
       "\n",
       "    .dataframe thead th {\n",
       "        text-align: right;\n",
       "    }\n",
       "</style>\n",
       "<table class=\"dataframe disparity-table\" id=\"disp-output\">\n",
       "  <thead>\n",
       "    <tr style=\"text-align: right;\">\n",
       "      <th>Group</th>\n",
       "      <th>Reference Group</th>\n",
       "      <th>Group Category</th>\n",
       "      <th>Total</th>\n",
       "      <th>Favorable</th>\n",
       "      <th>Percent Favorable</th>\n",
       "      <th>Percent Difference Favorable</th>\n",
       "      <th>AIR</th>\n",
       "      <th>P-Values</th>\n",
       "      <th>Practically Significant</th>\n",
       "      <th>Shortfall</th>\n",
       "    </tr>\n",
       "  </thead>\n",
       "  <tbody>\n",
       "    <tr>\n",
       "      <td>Black</td>\n",
       "      <td>White</td>\n",
       "      <td>Race</td>\n",
       "      <td>3,999.0</td>\n",
       "      <td>1,453.0</td>\n",
       "      <td>36.33%</td>\n",
       "      <td>23.81%</td>\n",
       "      <td>0.604</td>\n",
       "      <td>0.000</td>\n",
       "      <td>Yes</td>\n",
       "      <td>952.0</td>\n",
       "    </tr>\n",
       "    <tr>\n",
       "      <td>Asian/PI</td>\n",
       "      <td>White</td>\n",
       "      <td>Race</td>\n",
       "      <td>4,155.0</td>\n",
       "      <td>3,131.0</td>\n",
       "      <td>75.35%</td>\n",
       "      <td>-15.21%</td>\n",
       "      <td>1.253</td>\n",
       "      <td>0.000</td>\n",
       "      <td>No</td>\n",
       "      <td></td>\n",
       "    </tr>\n",
       "    <tr>\n",
       "      <td>Native American</td>\n",
       "      <td>White</td>\n",
       "      <td>Race</td>\n",
       "      <td>227.0</td>\n",
       "      <td>104.0</td>\n",
       "      <td>45.81%</td>\n",
       "      <td>14.33%</td>\n",
       "      <td>0.762</td>\n",
       "      <td>0.000</td>\n",
       "      <td>Yes</td>\n",
       "      <td>32.5</td>\n",
       "    </tr>\n",
       "    <tr>\n",
       "      <td>White</td>\n",
       "      <td></td>\n",
       "      <td>Race</td>\n",
       "      <td>42,788.0</td>\n",
       "      <td>25,733.0</td>\n",
       "      <td>60.14%</td>\n",
       "      <td></td>\n",
       "      <td></td>\n",
       "      <td></td>\n",
       "      <td></td>\n",
       "      <td></td>\n",
       "    </tr>\n",
       "    <tr>\n",
       "      <td>Hispanic</td>\n",
       "      <td>Non-Hispanic</td>\n",
       "      <td>Ethnicity</td>\n",
       "      <td>6,218.0</td>\n",
       "      <td>2,256.0</td>\n",
       "      <td>36.28%</td>\n",
       "      <td>26.39%</td>\n",
       "      <td>0.579</td>\n",
       "      <td>0.000</td>\n",
       "      <td>Yes</td>\n",
       "      <td>1,641.2</td>\n",
       "    </tr>\n",
       "    <tr>\n",
       "      <td>Non-Hispanic</td>\n",
       "      <td></td>\n",
       "      <td>Ethnicity</td>\n",
       "      <td>44,966.0</td>\n",
       "      <td>28,183.0</td>\n",
       "      <td>62.68%</td>\n",
       "      <td></td>\n",
       "      <td></td>\n",
       "      <td></td>\n",
       "      <td></td>\n",
       "      <td></td>\n",
       "    </tr>\n",
       "    <tr>\n",
       "      <td>Female</td>\n",
       "      <td>Male</td>\n",
       "      <td>Sex</td>\n",
       "      <td>12,383.0</td>\n",
       "      <td>6,206.0</td>\n",
       "      <td>50.12%</td>\n",
       "      <td>6.00%</td>\n",
       "      <td>0.893</td>\n",
       "      <td>0.000</td>\n",
       "      <td>No</td>\n",
       "      <td></td>\n",
       "    </tr>\n",
       "    <tr>\n",
       "      <td>Male</td>\n",
       "      <td></td>\n",
       "      <td>Sex</td>\n",
       "      <td>19,701.0</td>\n",
       "      <td>11,055.0</td>\n",
       "      <td>56.11%</td>\n",
       "      <td></td>\n",
       "      <td></td>\n",
       "      <td></td>\n",
       "      <td></td>\n",
       "      <td></td>\n",
       "    </tr>\n",
       "  </tbody>\n",
       "</table>\n",
       "</div>"
      ],
      "text/plain": [
       "<IPython.core.display.HTML object>"
      ]
     },
     "metadata": {},
     "output_type": "display_data"
    },
    {
     "data": {
      "application/vnd.plotly.v1+json": {
       "config": {
        "plotlyServerURL": "https://plot.ly"
       },
       "data": [
        {
         "hoverlabel": {
          "font": {
           "color": "Black"
          }
         },
         "hovertemplate": "%{x}, %{y}",
         "legendgroup": "Race",
         "legendgrouptitle": {
          "text": "Race"
         },
         "marker": {
          "color": "RGBA(78, 121, 167, 1.0)",
          "line": {
           "color": "rgb(8,48,107)"
          },
          "pattern": {
           "shape": "/"
          }
         },
         "name": "Black",
         "text": "0.604",
         "textfont": {
          "color": "Black"
         },
         "type": "bar",
         "x": [
          [
           "Race"
          ],
          [
           "Black"
          ]
         ],
         "y": [
          0.6041513681411743
         ]
        },
        {
         "hoverlabel": {
          "font": {
           "color": "Black"
          }
         },
         "hovertemplate": "%{x}, %{y}",
         "legendgroup": "Race",
         "legendgrouptitle": {
          "text": "Race"
         },
         "marker": {
          "color": "RGBA(78, 121, 167, 0.875)",
          "line": {
           "color": "rgb(8,48,107)"
          },
          "pattern": {
           "shape": ""
          }
         },
         "name": "Asian/PI",
         "text": "1.253",
         "textfont": {
          "color": "Black"
         },
         "type": "bar",
         "x": [
          [
           "Race"
          ],
          [
           "Asian/PI"
          ]
         ],
         "y": [
          1.2529784440994263
         ]
        },
        {
         "hoverlabel": {
          "font": {
           "color": "Black"
          }
         },
         "hovertemplate": "%{x}, %{y}",
         "legendgroup": "Race",
         "legendgrouptitle": {
          "text": "Race"
         },
         "marker": {
          "color": "RGBA(78, 121, 167, 0.75)",
          "line": {
           "color": "rgb(8,48,107)"
          },
          "pattern": {
           "shape": "/"
          }
         },
         "name": "Native American",
         "text": "0.762",
         "textfont": {
          "color": "Black"
         },
         "type": "bar",
         "x": [
          [
           "Race"
          ],
          [
           "Native<br>American"
          ]
         ],
         "y": [
          0.7617966532707214
         ]
        },
        {
         "hoverlabel": {
          "font": {
           "color": "Black"
          }
         },
         "hovertemplate": "%{x}, %{y}",
         "legendgroup": "Ethnicity",
         "legendgrouptitle": {
          "text": "Ethnicity"
         },
         "marker": {
          "color": "RGBA(242, 142, 45, 1.0)",
          "line": {
           "color": "rgb(8,48,107)"
          },
          "pattern": {
           "shape": "/"
          }
         },
         "name": "Hispanic",
         "text": "0.579",
         "textfont": {
          "color": "Black"
         },
         "type": "bar",
         "x": [
          [
           "Ethnicity"
          ],
          [
           "Hispanic"
          ]
         ],
         "y": [
          0.5788757801055908
         ]
        },
        {
         "hoverlabel": {
          "font": {
           "color": "Black"
          }
         },
         "hovertemplate": "%{x}, %{y}",
         "legendgroup": "Sex",
         "legendgrouptitle": {
          "text": "Sex"
         },
         "marker": {
          "color": "RGBA(225, 87, 89, 1.0)",
          "line": {
           "color": "rgb(8,48,107)"
          },
          "pattern": {
           "shape": ""
          }
         },
         "name": "Female",
         "text": "0.893",
         "textfont": {
          "color": "Black"
         },
         "type": "bar",
         "x": [
          [
           "Sex"
          ],
          [
           "Female"
          ]
         ],
         "y": [
          0.89313143491745
         ]
        },
        {
         "legendgroup": "AIR Threshold",
         "legendgrouptitle": {
          "text": "Threshold"
         },
         "line": {
          "color": "Black",
          "dash": "dot",
          "width": 1.25
         },
         "mode": "lines",
         "name": "AIR Threshold",
         "showlegend": true,
         "type": "scatter",
         "x": [
          null
         ],
         "y": [
          null
         ]
        }
       ],
       "layout": {
        "font": {
         "color": "Black"
        },
        "height": 563,
        "legend": {
         "itemclick": false,
         "itemdoubleclick": false
        },
        "scene": {
         "yaxis": {
          "exponentformat": "none",
          "separatethousands": true
         }
        },
        "shapes": [
         {
          "line": {
           "color": "Black",
           "dash": "dot",
           "width": 1.25
          },
          "name": "AIR Threshold",
          "type": "line",
          "x0": 0,
          "x1": 1,
          "xref": "paper",
          "y0": 0.8,
          "y1": 0.8,
          "yref": "y"
         }
        ],
        "template": {
         "data": {
          "bar": [
           {
            "error_x": {
             "color": "#2a3f5f"
            },
            "error_y": {
             "color": "#2a3f5f"
            },
            "marker": {
             "line": {
              "color": "#E5ECF6",
              "width": 0.5
             },
             "pattern": {
              "fillmode": "overlay",
              "size": 10,
              "solidity": 0.2
             }
            },
            "type": "bar"
           }
          ],
          "barpolar": [
           {
            "marker": {
             "line": {
              "color": "#E5ECF6",
              "width": 0.5
             },
             "pattern": {
              "fillmode": "overlay",
              "size": 10,
              "solidity": 0.2
             }
            },
            "type": "barpolar"
           }
          ],
          "carpet": [
           {
            "aaxis": {
             "endlinecolor": "#2a3f5f",
             "gridcolor": "white",
             "linecolor": "white",
             "minorgridcolor": "white",
             "startlinecolor": "#2a3f5f"
            },
            "baxis": {
             "endlinecolor": "#2a3f5f",
             "gridcolor": "white",
             "linecolor": "white",
             "minorgridcolor": "white",
             "startlinecolor": "#2a3f5f"
            },
            "type": "carpet"
           }
          ],
          "choropleth": [
           {
            "colorbar": {
             "outlinewidth": 0,
             "ticks": ""
            },
            "type": "choropleth"
           }
          ],
          "contour": [
           {
            "colorbar": {
             "outlinewidth": 0,
             "ticks": ""
            },
            "colorscale": [
             [
              0,
              "#0d0887"
             ],
             [
              0.1111111111111111,
              "#46039f"
             ],
             [
              0.2222222222222222,
              "#7201a8"
             ],
             [
              0.3333333333333333,
              "#9c179e"
             ],
             [
              0.4444444444444444,
              "#bd3786"
             ],
             [
              0.5555555555555556,
              "#d8576b"
             ],
             [
              0.6666666666666666,
              "#ed7953"
             ],
             [
              0.7777777777777778,
              "#fb9f3a"
             ],
             [
              0.8888888888888888,
              "#fdca26"
             ],
             [
              1,
              "#f0f921"
             ]
            ],
            "type": "contour"
           }
          ],
          "contourcarpet": [
           {
            "colorbar": {
             "outlinewidth": 0,
             "ticks": ""
            },
            "type": "contourcarpet"
           }
          ],
          "heatmap": [
           {
            "colorbar": {
             "outlinewidth": 0,
             "ticks": ""
            },
            "colorscale": [
             [
              0,
              "#0d0887"
             ],
             [
              0.1111111111111111,
              "#46039f"
             ],
             [
              0.2222222222222222,
              "#7201a8"
             ],
             [
              0.3333333333333333,
              "#9c179e"
             ],
             [
              0.4444444444444444,
              "#bd3786"
             ],
             [
              0.5555555555555556,
              "#d8576b"
             ],
             [
              0.6666666666666666,
              "#ed7953"
             ],
             [
              0.7777777777777778,
              "#fb9f3a"
             ],
             [
              0.8888888888888888,
              "#fdca26"
             ],
             [
              1,
              "#f0f921"
             ]
            ],
            "type": "heatmap"
           }
          ],
          "heatmapgl": [
           {
            "colorbar": {
             "outlinewidth": 0,
             "ticks": ""
            },
            "colorscale": [
             [
              0,
              "#0d0887"
             ],
             [
              0.1111111111111111,
              "#46039f"
             ],
             [
              0.2222222222222222,
              "#7201a8"
             ],
             [
              0.3333333333333333,
              "#9c179e"
             ],
             [
              0.4444444444444444,
              "#bd3786"
             ],
             [
              0.5555555555555556,
              "#d8576b"
             ],
             [
              0.6666666666666666,
              "#ed7953"
             ],
             [
              0.7777777777777778,
              "#fb9f3a"
             ],
             [
              0.8888888888888888,
              "#fdca26"
             ],
             [
              1,
              "#f0f921"
             ]
            ],
            "type": "heatmapgl"
           }
          ],
          "histogram": [
           {
            "marker": {
             "pattern": {
              "fillmode": "overlay",
              "size": 10,
              "solidity": 0.2
             }
            },
            "type": "histogram"
           }
          ],
          "histogram2d": [
           {
            "colorbar": {
             "outlinewidth": 0,
             "ticks": ""
            },
            "colorscale": [
             [
              0,
              "#0d0887"
             ],
             [
              0.1111111111111111,
              "#46039f"
             ],
             [
              0.2222222222222222,
              "#7201a8"
             ],
             [
              0.3333333333333333,
              "#9c179e"
             ],
             [
              0.4444444444444444,
              "#bd3786"
             ],
             [
              0.5555555555555556,
              "#d8576b"
             ],
             [
              0.6666666666666666,
              "#ed7953"
             ],
             [
              0.7777777777777778,
              "#fb9f3a"
             ],
             [
              0.8888888888888888,
              "#fdca26"
             ],
             [
              1,
              "#f0f921"
             ]
            ],
            "type": "histogram2d"
           }
          ],
          "histogram2dcontour": [
           {
            "colorbar": {
             "outlinewidth": 0,
             "ticks": ""
            },
            "colorscale": [
             [
              0,
              "#0d0887"
             ],
             [
              0.1111111111111111,
              "#46039f"
             ],
             [
              0.2222222222222222,
              "#7201a8"
             ],
             [
              0.3333333333333333,
              "#9c179e"
             ],
             [
              0.4444444444444444,
              "#bd3786"
             ],
             [
              0.5555555555555556,
              "#d8576b"
             ],
             [
              0.6666666666666666,
              "#ed7953"
             ],
             [
              0.7777777777777778,
              "#fb9f3a"
             ],
             [
              0.8888888888888888,
              "#fdca26"
             ],
             [
              1,
              "#f0f921"
             ]
            ],
            "type": "histogram2dcontour"
           }
          ],
          "mesh3d": [
           {
            "colorbar": {
             "outlinewidth": 0,
             "ticks": ""
            },
            "type": "mesh3d"
           }
          ],
          "parcoords": [
           {
            "line": {
             "colorbar": {
              "outlinewidth": 0,
              "ticks": ""
             }
            },
            "type": "parcoords"
           }
          ],
          "pie": [
           {
            "automargin": true,
            "type": "pie"
           }
          ],
          "scatter": [
           {
            "fillpattern": {
             "fillmode": "overlay",
             "size": 10,
             "solidity": 0.2
            },
            "type": "scatter"
           }
          ],
          "scatter3d": [
           {
            "line": {
             "colorbar": {
              "outlinewidth": 0,
              "ticks": ""
             }
            },
            "marker": {
             "colorbar": {
              "outlinewidth": 0,
              "ticks": ""
             }
            },
            "type": "scatter3d"
           }
          ],
          "scattercarpet": [
           {
            "marker": {
             "colorbar": {
              "outlinewidth": 0,
              "ticks": ""
             }
            },
            "type": "scattercarpet"
           }
          ],
          "scattergeo": [
           {
            "marker": {
             "colorbar": {
              "outlinewidth": 0,
              "ticks": ""
             }
            },
            "type": "scattergeo"
           }
          ],
          "scattergl": [
           {
            "marker": {
             "colorbar": {
              "outlinewidth": 0,
              "ticks": ""
             }
            },
            "type": "scattergl"
           }
          ],
          "scattermapbox": [
           {
            "marker": {
             "colorbar": {
              "outlinewidth": 0,
              "ticks": ""
             }
            },
            "type": "scattermapbox"
           }
          ],
          "scatterpolar": [
           {
            "marker": {
             "colorbar": {
              "outlinewidth": 0,
              "ticks": ""
             }
            },
            "type": "scatterpolar"
           }
          ],
          "scatterpolargl": [
           {
            "marker": {
             "colorbar": {
              "outlinewidth": 0,
              "ticks": ""
             }
            },
            "type": "scatterpolargl"
           }
          ],
          "scatterternary": [
           {
            "marker": {
             "colorbar": {
              "outlinewidth": 0,
              "ticks": ""
             }
            },
            "type": "scatterternary"
           }
          ],
          "surface": [
           {
            "colorbar": {
             "outlinewidth": 0,
             "ticks": ""
            },
            "colorscale": [
             [
              0,
              "#0d0887"
             ],
             [
              0.1111111111111111,
              "#46039f"
             ],
             [
              0.2222222222222222,
              "#7201a8"
             ],
             [
              0.3333333333333333,
              "#9c179e"
             ],
             [
              0.4444444444444444,
              "#bd3786"
             ],
             [
              0.5555555555555556,
              "#d8576b"
             ],
             [
              0.6666666666666666,
              "#ed7953"
             ],
             [
              0.7777777777777778,
              "#fb9f3a"
             ],
             [
              0.8888888888888888,
              "#fdca26"
             ],
             [
              1,
              "#f0f921"
             ]
            ],
            "type": "surface"
           }
          ],
          "table": [
           {
            "cells": {
             "fill": {
              "color": "#EBF0F8"
             },
             "line": {
              "color": "white"
             }
            },
            "header": {
             "fill": {
              "color": "#C8D4E3"
             },
             "line": {
              "color": "white"
             }
            },
            "type": "table"
           }
          ]
         },
         "layout": {
          "annotationdefaults": {
           "arrowcolor": "#2a3f5f",
           "arrowhead": 0,
           "arrowwidth": 1
          },
          "autotypenumbers": "strict",
          "coloraxis": {
           "colorbar": {
            "outlinewidth": 0,
            "ticks": ""
           }
          },
          "colorscale": {
           "diverging": [
            [
             0,
             "#8e0152"
            ],
            [
             0.1,
             "#c51b7d"
            ],
            [
             0.2,
             "#de77ae"
            ],
            [
             0.3,
             "#f1b6da"
            ],
            [
             0.4,
             "#fde0ef"
            ],
            [
             0.5,
             "#f7f7f7"
            ],
            [
             0.6,
             "#e6f5d0"
            ],
            [
             0.7,
             "#b8e186"
            ],
            [
             0.8,
             "#7fbc41"
            ],
            [
             0.9,
             "#4d9221"
            ],
            [
             1,
             "#276419"
            ]
           ],
           "sequential": [
            [
             0,
             "#0d0887"
            ],
            [
             0.1111111111111111,
             "#46039f"
            ],
            [
             0.2222222222222222,
             "#7201a8"
            ],
            [
             0.3333333333333333,
             "#9c179e"
            ],
            [
             0.4444444444444444,
             "#bd3786"
            ],
            [
             0.5555555555555556,
             "#d8576b"
            ],
            [
             0.6666666666666666,
             "#ed7953"
            ],
            [
             0.7777777777777778,
             "#fb9f3a"
            ],
            [
             0.8888888888888888,
             "#fdca26"
            ],
            [
             1,
             "#f0f921"
            ]
           ],
           "sequentialminus": [
            [
             0,
             "#0d0887"
            ],
            [
             0.1111111111111111,
             "#46039f"
            ],
            [
             0.2222222222222222,
             "#7201a8"
            ],
            [
             0.3333333333333333,
             "#9c179e"
            ],
            [
             0.4444444444444444,
             "#bd3786"
            ],
            [
             0.5555555555555556,
             "#d8576b"
            ],
            [
             0.6666666666666666,
             "#ed7953"
            ],
            [
             0.7777777777777778,
             "#fb9f3a"
            ],
            [
             0.8888888888888888,
             "#fdca26"
            ],
            [
             1,
             "#f0f921"
            ]
           ]
          },
          "colorway": [
           "#636efa",
           "#EF553B",
           "#00cc96",
           "#ab63fa",
           "#FFA15A",
           "#19d3f3",
           "#FF6692",
           "#B6E880",
           "#FF97FF",
           "#FECB52"
          ],
          "font": {
           "color": "#2a3f5f"
          },
          "geo": {
           "bgcolor": "white",
           "lakecolor": "white",
           "landcolor": "#E5ECF6",
           "showlakes": true,
           "showland": true,
           "subunitcolor": "white"
          },
          "hoverlabel": {
           "align": "left"
          },
          "hovermode": "closest",
          "mapbox": {
           "style": "light"
          },
          "paper_bgcolor": "white",
          "plot_bgcolor": "#E5ECF6",
          "polar": {
           "angularaxis": {
            "gridcolor": "white",
            "linecolor": "white",
            "ticks": ""
           },
           "bgcolor": "#E5ECF6",
           "radialaxis": {
            "gridcolor": "white",
            "linecolor": "white",
            "ticks": ""
           }
          },
          "scene": {
           "xaxis": {
            "backgroundcolor": "#E5ECF6",
            "gridcolor": "white",
            "gridwidth": 2,
            "linecolor": "white",
            "showbackground": true,
            "ticks": "",
            "zerolinecolor": "white"
           },
           "yaxis": {
            "backgroundcolor": "#E5ECF6",
            "gridcolor": "white",
            "gridwidth": 2,
            "linecolor": "white",
            "showbackground": true,
            "ticks": "",
            "zerolinecolor": "white"
           },
           "zaxis": {
            "backgroundcolor": "#E5ECF6",
            "gridcolor": "white",
            "gridwidth": 2,
            "linecolor": "white",
            "showbackground": true,
            "ticks": "",
            "zerolinecolor": "white"
           }
          },
          "shapedefaults": {
           "line": {
            "color": "#2a3f5f"
           }
          },
          "ternary": {
           "aaxis": {
            "gridcolor": "white",
            "linecolor": "white",
            "ticks": ""
           },
           "baxis": {
            "gridcolor": "white",
            "linecolor": "white",
            "ticks": ""
           },
           "bgcolor": "#E5ECF6",
           "caxis": {
            "gridcolor": "white",
            "linecolor": "white",
            "ticks": ""
           }
          },
          "title": {
           "x": 0.05
          },
          "xaxis": {
           "automargin": true,
           "gridcolor": "white",
           "linecolor": "white",
           "ticks": "",
           "title": {
            "standoff": 15
           },
           "zerolinecolor": "white",
           "zerolinewidth": 2
          },
          "yaxis": {
           "automargin": true,
           "gridcolor": "white",
           "linecolor": "white",
           "ticks": "",
           "title": {
            "standoff": 15
           },
           "zerolinecolor": "white",
           "zerolinewidth": 2
          }
         }
        },
        "title": {
         "text": "AIR"
        },
        "width": 900,
        "xaxis": {
         "fixedrange": true,
         "title": {
          "text": "Group"
         }
        },
        "yaxis": {
         "fixedrange": true,
         "tickformat": "0,.3f",
         "ticksuffix": "  ",
         "title": {
          "text": "AIR"
         }
        }
       }
      }
     },
     "metadata": {},
     "output_type": "display_data"
    }
   ],
   "source": [
    "solas_air = sd.adverse_impact_ratio(\n",
    "    group_data=valid,\n",
    "    protected_groups=protected_groups,\n",
    "    reference_groups=reference_groups,\n",
    "    group_categories=group_categories,\n",
    "    outcome=valid['Low-Priced Offer'],\n",
    "    air_threshold=0.8,\n",
    "    percent_difference_threshold=0,\n",
    ")\n",
    "solas_air"
   ]
  },
  {
   "attachments": {},
   "cell_type": "markdown",
   "metadata": {},
   "source": [
    "We can use the `solas_air` disparity object we create above to generate output tables and plots of results. The heart of the SolasAI disparity object is the `summary_table`, which we display below. This can be displayed directly, or, if the user wants formatted output, we can display it using the SolasAI user interface functionality `solas_disparity.ui.show()`. Below, we display the formatted results."
   ]
  },
  {
   "cell_type": "code",
   "execution_count": null,
   "metadata": {},
   "outputs": [],
   "source": [
    "sd.ui.show(solas_air.summary_table)"
   ]
  },
  {
   "attachments": {},
   "cell_type": "markdown",
   "metadata": {},
   "source": [
    "We can also plot the output of the disparity results using a `.plot()` function. If the user does not specify the column to plot then the disparity metric (here, the AIR) automatically gets plotted. If the results are practically significant then the value is plotted with crosshatching, as occurs here for Black applicants."
   ]
  },
  {
   "cell_type": "code",
   "execution_count": null,
   "metadata": {},
   "outputs": [],
   "source": [
    "solas_air.plot()"
   ]
  },
  {
   "attachments": {},
   "cell_type": "markdown",
   "metadata": {},
   "source": [
    "To plot a specific column, one uses the `column` argument in the plot function. Here, we plot the column of total observations. The reference group for each comparison is plotted with a border around it."
   ]
  },
  {
   "cell_type": "code",
   "execution_count": null,
   "metadata": {},
   "outputs": [],
   "source": [
    "solas_air.plot(column='Total')"
   ]
  },
  {
   "attachments": {},
   "cell_type": "markdown",
   "metadata": {},
   "source": [
    "Next, we calculate and display the summary table for the standardized mean difference. The call for the SMD is similar to that for the Adverse Impact Ratio, but with `smd_threshold` replacing `air_threshold`. At the time of writing, the SMD call does not include a threshold like the `percent_difference_threshold` in the adverse impact ratio call. In this call, we add the label variable, `valid['low_priced']`. This is not used in computations of the SMD, but is displayed in the summary table and can be printed. Including the label is possible in all of the SolasAI functions. \n",
    "\n",
    "Before we call the SMD, we change two constant values, the `AVERAGE_OUTCOME` and `AVERAGE_LABEL`. Doing this allows customization of the output summary table and charts. This gives the user the ability to be more specific for the particular use case. As an example, we changed \"Average Label\" to now read \"Percent Low-Priced\"."
   ]
  },
  {
   "cell_type": "code",
   "execution_count": null,
   "metadata": {},
   "outputs": [],
   "source": [
    "sd.const.AVERAGE_OUTCOME = 'Average Prediction'  # Was Average Outcome\n",
    "sd.const.AVERAGE_LABEL = 'Percent Low-Priced'  # was Average Label\n",
    "\n",
    "solas_smd = sd.standardized_mean_difference(\n",
    "    group_data=valid,\n",
    "    protected_groups=protected_groups,\n",
    "    reference_groups=reference_groups,\n",
    "    group_categories=group_categories,\n",
    "    outcome=valid['Prediction'],\n",
    "    label=valid['low_priced'],\n",
    "    smd_threshold=-30,\n",
    "    lower_score_favorable=False,\n",
    ")"
   ]
  },
  {
   "cell_type": "code",
   "execution_count": null,
   "metadata": {},
   "outputs": [],
   "source": [
    "sd.ui.show(solas_smd.summary_table.drop(columns=['Std. Dev. of Outcomes', 'Percent Missing']))"
   ]
  },
  {
   "attachments": {},
   "cell_type": "markdown",
   "metadata": {},
   "source": [
    "The code below changes the title of the SMD plot to be more specific to the particular use case."
   ]
  },
  {
   "cell_type": "code",
   "execution_count": null,
   "metadata": {},
   "outputs": [],
   "source": [
    "sd.const.SMD_SMD_PLOT_TITLE = \"Standardized Mean Difference of Low-Priced Predictions\"\n",
    "solas_smd.plot()"
   ]
  },
  {
   "cell_type": "code",
   "execution_count": 33,
   "metadata": {},
   "outputs": [
    {
     "data": {
      "text/markdown": [
       "## Disparity Calculation: Custom Disparity Metric"
      ],
      "text/plain": [
       "<IPython.core.display.Markdown object>"
      ]
     },
     "metadata": {},
     "output_type": "display_data"
    },
    {
     "data": {
      "text/html": [
       "<pre style=\"white-space:pre;overflow-x:auto;line-height:normal;font-family:Menlo,'DejaVu Sans Mono',consolas,'Courier New',monospace\">┌────────────────────────────────────┬────────────────────────────────────────────────────────────────────────────┐\n",
       "│ Protected Groups                   │ Black, Asian/PI, Native American, Hispanic, Female                         │\n",
       "│ Reference Groups                   │ White, White, White, Non-Hispanic, Male                                    │\n",
       "│ Group Categories                   │ Race, Race, Race, Ethnicity, Sex                                           │\n",
       "│ Metric                             │ roc_auc_score                                                              │\n",
       "│ Difference Calculation             │ reference_minus_protected                                                  │\n",
       "│ Ratio Calculation                  │ protected_over_reference                                                   │\n",
       "│ Affected Groups                    │ Black, Native American, Hispanic                                           │\n",
       "│ Affected Reference                 │ White, White, Non-Hispanic                                                 │\n",
       "│ Affected Categories                │ Race, Race, Ethnicity                                                      │\n",
       "└────────────────────────────────────┴────────────────────────────────────────────────────────────────────────────┘\n",
       "</pre>\n"
      ],
      "text/plain": [
       "┌────────────────────────────────────┬────────────────────────────────────────────────────────────────────────────┐\n",
       "│ Protected Groups                   │ Black, Asian/PI, Native American, Hispanic, Female                         │\n",
       "│ Reference Groups                   │ White, White, White, Non-Hispanic, Male                                    │\n",
       "│ Group Categories                   │ Race, Race, Race, Ethnicity, Sex                                           │\n",
       "│ Metric                             │ roc_auc_score                                                              │\n",
       "│ Difference Calculation             │ reference_minus_protected                                                  │\n",
       "│ Ratio Calculation                  │ protected_over_reference                                                   │\n",
       "│ Affected Groups                    │ Black, Native American, Hispanic                                           │\n",
       "│ Affected Reference                 │ White, White, Non-Hispanic                                                 │\n",
       "│ Affected Categories                │ Race, Race, Ethnicity                                                      │\n",
       "└────────────────────────────────────┴────────────────────────────────────────────────────────────────────────────┘\n"
      ]
     },
     "metadata": {},
     "output_type": "display_data"
    },
    {
     "data": {
      "text/markdown": [
       "## Custom Disparity Metric Summary Table"
      ],
      "text/plain": [
       "<IPython.core.display.Markdown object>"
      ]
     },
     "metadata": {},
     "output_type": "display_data"
    },
    {
     "data": {
      "text/markdown": [
       "\\* Percent Missing: Ethnicity: 13.96%, Race: 13.99%, Sex: 46.07%"
      ],
      "text/plain": [
       "<IPython.core.display.Markdown object>"
      ]
     },
     "metadata": {},
     "output_type": "display_data"
    },
    {
     "data": {
      "text/html": [
       "<div>\n",
       "<style scoped>\n",
       "    .dataframe tbody tr th:only-of-type {\n",
       "        vertical-align: middle;\n",
       "    }\n",
       "\n",
       "    .dataframe tbody tr th {\n",
       "        vertical-align: top;\n",
       "    }\n",
       "\n",
       "    .dataframe thead th {\n",
       "        text-align: right;\n",
       "    }\n",
       "</style>\n",
       "<table class=\"dataframe disparity-table\" id=\"disp-output\">\n",
       "  <thead>\n",
       "    <tr style=\"text-align: right;\">\n",
       "      <th>Group</th>\n",
       "      <th>Reference Group</th>\n",
       "      <th>Group Category</th>\n",
       "      <th>Total</th>\n",
       "      <th>Total Label</th>\n",
       "      <th>Average Label</th>\n",
       "      <th>ROC AUC SCORE</th>\n",
       "      <th>Difference</th>\n",
       "      <th>Ratio</th>\n",
       "      <th>Practically Significant</th>\n",
       "    </tr>\n",
       "  </thead>\n",
       "  <tbody>\n",
       "    <tr>\n",
       "      <td>Black</td>\n",
       "      <td>White</td>\n",
       "      <td>Race</td>\n",
       "      <td>3,999.0</td>\n",
       "      <td>3,182.0</td>\n",
       "      <td>0.80</td>\n",
       "      <td>0.839784</td>\n",
       "      <td>0.062</td>\n",
       "      <td>0.932</td>\n",
       "      <td>Yes</td>\n",
       "    </tr>\n",
       "    <tr>\n",
       "      <td>Asian/PI</td>\n",
       "      <td>White</td>\n",
       "      <td>Race</td>\n",
       "      <td>4,155.0</td>\n",
       "      <td>3,950.0</td>\n",
       "      <td>0.95</td>\n",
       "      <td>0.942627</td>\n",
       "      <td>-0.041</td>\n",
       "      <td>1.046</td>\n",
       "      <td>No</td>\n",
       "    </tr>\n",
       "    <tr>\n",
       "      <td>Native American</td>\n",
       "      <td>White</td>\n",
       "      <td>Race</td>\n",
       "      <td>227.0</td>\n",
       "      <td>199.0</td>\n",
       "      <td>0.88</td>\n",
       "      <td>0.781497</td>\n",
       "      <td>0.120</td>\n",
       "      <td>0.867</td>\n",
       "      <td>Yes</td>\n",
       "    </tr>\n",
       "    <tr>\n",
       "      <td>White</td>\n",
       "      <td></td>\n",
       "      <td>Race</td>\n",
       "      <td>42,788.0</td>\n",
       "      <td>38,840.0</td>\n",
       "      <td>0.91</td>\n",
       "      <td>0.901385</td>\n",
       "      <td></td>\n",
       "      <td></td>\n",
       "      <td></td>\n",
       "    </tr>\n",
       "    <tr>\n",
       "      <td>Hispanic</td>\n",
       "      <td>Non-Hispanic</td>\n",
       "      <td>Ethnicity</td>\n",
       "      <td>6,218.0</td>\n",
       "      <td>4,876.0</td>\n",
       "      <td>0.78</td>\n",
       "      <td>0.850747</td>\n",
       "      <td>0.054</td>\n",
       "      <td>0.941</td>\n",
       "      <td>Yes</td>\n",
       "    </tr>\n",
       "    <tr>\n",
       "      <td>Non-Hispanic</td>\n",
       "      <td></td>\n",
       "      <td>Ethnicity</td>\n",
       "      <td>44,966.0</td>\n",
       "      <td>41,302.0</td>\n",
       "      <td>0.92</td>\n",
       "      <td>0.904364</td>\n",
       "      <td></td>\n",
       "      <td></td>\n",
       "      <td></td>\n",
       "    </tr>\n",
       "    <tr>\n",
       "      <td>Female</td>\n",
       "      <td>Male</td>\n",
       "      <td>Sex</td>\n",
       "      <td>12,383.0</td>\n",
       "      <td>10,831.0</td>\n",
       "      <td>0.87</td>\n",
       "      <td>0.886625</td>\n",
       "      <td>0.007</td>\n",
       "      <td>0.992</td>\n",
       "      <td>No</td>\n",
       "    </tr>\n",
       "    <tr>\n",
       "      <td>Male</td>\n",
       "      <td></td>\n",
       "      <td>Sex</td>\n",
       "      <td>19,701.0</td>\n",
       "      <td>17,664.0</td>\n",
       "      <td>0.90</td>\n",
       "      <td>0.893412</td>\n",
       "      <td></td>\n",
       "      <td></td>\n",
       "      <td></td>\n",
       "    </tr>\n",
       "  </tbody>\n",
       "</table>\n",
       "</div>"
      ],
      "text/plain": [
       "<IPython.core.display.HTML object>"
      ]
     },
     "metadata": {},
     "output_type": "display_data"
    },
    {
     "data": {
      "application/vnd.plotly.v1+json": {
       "config": {
        "plotlyServerURL": "https://plot.ly"
       },
       "data": [
        {
         "hoverlabel": {
          "font": {
           "color": "Black"
          }
         },
         "hovertemplate": "%{x}, %{y}",
         "legendgroup": "Race",
         "legendgrouptitle": {
          "text": "Race"
         },
         "marker": {
          "color": "RGBA(78, 121, 167, 1.0)",
          "line": {
           "color": "rgb(8,48,107)"
          },
          "pattern": {
           "shape": "/"
          }
         },
         "name": "Black",
         "text": "0.932",
         "textfont": {
          "color": "Black"
         },
         "type": "bar",
         "x": [
          [
           "Race"
          ],
          [
           "Black"
          ]
         ],
         "y": [
          0.9316593883263787
         ]
        },
        {
         "hoverlabel": {
          "font": {
           "color": "Black"
          }
         },
         "hovertemplate": "%{x}, %{y}",
         "legendgroup": "Race",
         "legendgrouptitle": {
          "text": "Race"
         },
         "marker": {
          "color": "RGBA(78, 121, 167, 0.875)",
          "line": {
           "color": "rgb(8,48,107)"
          },
          "pattern": {
           "shape": ""
          }
         },
         "name": "Asian/PI",
         "text": "1.046",
         "textfont": {
          "color": "Black"
         },
         "type": "bar",
         "x": [
          [
           "Race"
          ],
          [
           "Asian/PI"
          ]
         ],
         "y": [
          1.0457539336501793
         ]
        },
        {
         "hoverlabel": {
          "font": {
           "color": "Black"
          }
         },
         "hovertemplate": "%{x}, %{y}",
         "legendgroup": "Race",
         "legendgrouptitle": {
          "text": "Race"
         },
         "marker": {
          "color": "RGBA(78, 121, 167, 0.75)",
          "line": {
           "color": "rgb(8,48,107)"
          },
          "pattern": {
           "shape": "/"
          }
         },
         "name": "Native American",
         "text": "0.867",
         "textfont": {
          "color": "Black"
         },
         "type": "bar",
         "x": [
          [
           "Race"
          ],
          [
           "Native<br>American"
          ]
         ],
         "y": [
          0.866995693132372
         ]
        },
        {
         "hoverlabel": {
          "font": {
           "color": "Black"
          }
         },
         "hovertemplate": "%{x}, %{y}",
         "legendgroup": "Ethnicity",
         "legendgrouptitle": {
          "text": "Ethnicity"
         },
         "marker": {
          "color": "RGBA(242, 142, 45, 1.0)",
          "line": {
           "color": "rgb(8,48,107)"
          },
          "pattern": {
           "shape": "/"
          }
         },
         "name": "Hispanic",
         "text": "0.941",
         "textfont": {
          "color": "Black"
         },
         "type": "bar",
         "x": [
          [
           "Ethnicity"
          ],
          [
           "Hispanic"
          ]
         ],
         "y": [
          0.9407137491232949
         ]
        },
        {
         "hoverlabel": {
          "font": {
           "color": "Black"
          }
         },
         "hovertemplate": "%{x}, %{y}",
         "legendgroup": "Sex",
         "legendgrouptitle": {
          "text": "Sex"
         },
         "marker": {
          "color": "RGBA(225, 87, 89, 1.0)",
          "line": {
           "color": "rgb(8,48,107)"
          },
          "pattern": {
           "shape": ""
          }
         },
         "name": "Female",
         "text": "0.992",
         "textfont": {
          "color": "Black"
         },
         "type": "bar",
         "x": [
          [
           "Sex"
          ],
          [
           "Female"
          ]
         ],
         "y": [
          0.9924028510752804
         ]
        }
       ],
       "layout": {
        "font": {
         "color": "Black"
        },
        "height": 563,
        "legend": {
         "itemclick": false,
         "itemdoubleclick": false
        },
        "scene": {
         "yaxis": {
          "exponentformat": "none",
          "separatethousands": true
         }
        },
        "template": {
         "data": {
          "bar": [
           {
            "error_x": {
             "color": "#2a3f5f"
            },
            "error_y": {
             "color": "#2a3f5f"
            },
            "marker": {
             "line": {
              "color": "#E5ECF6",
              "width": 0.5
             },
             "pattern": {
              "fillmode": "overlay",
              "size": 10,
              "solidity": 0.2
             }
            },
            "type": "bar"
           }
          ],
          "barpolar": [
           {
            "marker": {
             "line": {
              "color": "#E5ECF6",
              "width": 0.5
             },
             "pattern": {
              "fillmode": "overlay",
              "size": 10,
              "solidity": 0.2
             }
            },
            "type": "barpolar"
           }
          ],
          "carpet": [
           {
            "aaxis": {
             "endlinecolor": "#2a3f5f",
             "gridcolor": "white",
             "linecolor": "white",
             "minorgridcolor": "white",
             "startlinecolor": "#2a3f5f"
            },
            "baxis": {
             "endlinecolor": "#2a3f5f",
             "gridcolor": "white",
             "linecolor": "white",
             "minorgridcolor": "white",
             "startlinecolor": "#2a3f5f"
            },
            "type": "carpet"
           }
          ],
          "choropleth": [
           {
            "colorbar": {
             "outlinewidth": 0,
             "ticks": ""
            },
            "type": "choropleth"
           }
          ],
          "contour": [
           {
            "colorbar": {
             "outlinewidth": 0,
             "ticks": ""
            },
            "colorscale": [
             [
              0,
              "#0d0887"
             ],
             [
              0.1111111111111111,
              "#46039f"
             ],
             [
              0.2222222222222222,
              "#7201a8"
             ],
             [
              0.3333333333333333,
              "#9c179e"
             ],
             [
              0.4444444444444444,
              "#bd3786"
             ],
             [
              0.5555555555555556,
              "#d8576b"
             ],
             [
              0.6666666666666666,
              "#ed7953"
             ],
             [
              0.7777777777777778,
              "#fb9f3a"
             ],
             [
              0.8888888888888888,
              "#fdca26"
             ],
             [
              1,
              "#f0f921"
             ]
            ],
            "type": "contour"
           }
          ],
          "contourcarpet": [
           {
            "colorbar": {
             "outlinewidth": 0,
             "ticks": ""
            },
            "type": "contourcarpet"
           }
          ],
          "heatmap": [
           {
            "colorbar": {
             "outlinewidth": 0,
             "ticks": ""
            },
            "colorscale": [
             [
              0,
              "#0d0887"
             ],
             [
              0.1111111111111111,
              "#46039f"
             ],
             [
              0.2222222222222222,
              "#7201a8"
             ],
             [
              0.3333333333333333,
              "#9c179e"
             ],
             [
              0.4444444444444444,
              "#bd3786"
             ],
             [
              0.5555555555555556,
              "#d8576b"
             ],
             [
              0.6666666666666666,
              "#ed7953"
             ],
             [
              0.7777777777777778,
              "#fb9f3a"
             ],
             [
              0.8888888888888888,
              "#fdca26"
             ],
             [
              1,
              "#f0f921"
             ]
            ],
            "type": "heatmap"
           }
          ],
          "heatmapgl": [
           {
            "colorbar": {
             "outlinewidth": 0,
             "ticks": ""
            },
            "colorscale": [
             [
              0,
              "#0d0887"
             ],
             [
              0.1111111111111111,
              "#46039f"
             ],
             [
              0.2222222222222222,
              "#7201a8"
             ],
             [
              0.3333333333333333,
              "#9c179e"
             ],
             [
              0.4444444444444444,
              "#bd3786"
             ],
             [
              0.5555555555555556,
              "#d8576b"
             ],
             [
              0.6666666666666666,
              "#ed7953"
             ],
             [
              0.7777777777777778,
              "#fb9f3a"
             ],
             [
              0.8888888888888888,
              "#fdca26"
             ],
             [
              1,
              "#f0f921"
             ]
            ],
            "type": "heatmapgl"
           }
          ],
          "histogram": [
           {
            "marker": {
             "pattern": {
              "fillmode": "overlay",
              "size": 10,
              "solidity": 0.2
             }
            },
            "type": "histogram"
           }
          ],
          "histogram2d": [
           {
            "colorbar": {
             "outlinewidth": 0,
             "ticks": ""
            },
            "colorscale": [
             [
              0,
              "#0d0887"
             ],
             [
              0.1111111111111111,
              "#46039f"
             ],
             [
              0.2222222222222222,
              "#7201a8"
             ],
             [
              0.3333333333333333,
              "#9c179e"
             ],
             [
              0.4444444444444444,
              "#bd3786"
             ],
             [
              0.5555555555555556,
              "#d8576b"
             ],
             [
              0.6666666666666666,
              "#ed7953"
             ],
             [
              0.7777777777777778,
              "#fb9f3a"
             ],
             [
              0.8888888888888888,
              "#fdca26"
             ],
             [
              1,
              "#f0f921"
             ]
            ],
            "type": "histogram2d"
           }
          ],
          "histogram2dcontour": [
           {
            "colorbar": {
             "outlinewidth": 0,
             "ticks": ""
            },
            "colorscale": [
             [
              0,
              "#0d0887"
             ],
             [
              0.1111111111111111,
              "#46039f"
             ],
             [
              0.2222222222222222,
              "#7201a8"
             ],
             [
              0.3333333333333333,
              "#9c179e"
             ],
             [
              0.4444444444444444,
              "#bd3786"
             ],
             [
              0.5555555555555556,
              "#d8576b"
             ],
             [
              0.6666666666666666,
              "#ed7953"
             ],
             [
              0.7777777777777778,
              "#fb9f3a"
             ],
             [
              0.8888888888888888,
              "#fdca26"
             ],
             [
              1,
              "#f0f921"
             ]
            ],
            "type": "histogram2dcontour"
           }
          ],
          "mesh3d": [
           {
            "colorbar": {
             "outlinewidth": 0,
             "ticks": ""
            },
            "type": "mesh3d"
           }
          ],
          "parcoords": [
           {
            "line": {
             "colorbar": {
              "outlinewidth": 0,
              "ticks": ""
             }
            },
            "type": "parcoords"
           }
          ],
          "pie": [
           {
            "automargin": true,
            "type": "pie"
           }
          ],
          "scatter": [
           {
            "fillpattern": {
             "fillmode": "overlay",
             "size": 10,
             "solidity": 0.2
            },
            "type": "scatter"
           }
          ],
          "scatter3d": [
           {
            "line": {
             "colorbar": {
              "outlinewidth": 0,
              "ticks": ""
             }
            },
            "marker": {
             "colorbar": {
              "outlinewidth": 0,
              "ticks": ""
             }
            },
            "type": "scatter3d"
           }
          ],
          "scattercarpet": [
           {
            "marker": {
             "colorbar": {
              "outlinewidth": 0,
              "ticks": ""
             }
            },
            "type": "scattercarpet"
           }
          ],
          "scattergeo": [
           {
            "marker": {
             "colorbar": {
              "outlinewidth": 0,
              "ticks": ""
             }
            },
            "type": "scattergeo"
           }
          ],
          "scattergl": [
           {
            "marker": {
             "colorbar": {
              "outlinewidth": 0,
              "ticks": ""
             }
            },
            "type": "scattergl"
           }
          ],
          "scattermapbox": [
           {
            "marker": {
             "colorbar": {
              "outlinewidth": 0,
              "ticks": ""
             }
            },
            "type": "scattermapbox"
           }
          ],
          "scatterpolar": [
           {
            "marker": {
             "colorbar": {
              "outlinewidth": 0,
              "ticks": ""
             }
            },
            "type": "scatterpolar"
           }
          ],
          "scatterpolargl": [
           {
            "marker": {
             "colorbar": {
              "outlinewidth": 0,
              "ticks": ""
             }
            },
            "type": "scatterpolargl"
           }
          ],
          "scatterternary": [
           {
            "marker": {
             "colorbar": {
              "outlinewidth": 0,
              "ticks": ""
             }
            },
            "type": "scatterternary"
           }
          ],
          "surface": [
           {
            "colorbar": {
             "outlinewidth": 0,
             "ticks": ""
            },
            "colorscale": [
             [
              0,
              "#0d0887"
             ],
             [
              0.1111111111111111,
              "#46039f"
             ],
             [
              0.2222222222222222,
              "#7201a8"
             ],
             [
              0.3333333333333333,
              "#9c179e"
             ],
             [
              0.4444444444444444,
              "#bd3786"
             ],
             [
              0.5555555555555556,
              "#d8576b"
             ],
             [
              0.6666666666666666,
              "#ed7953"
             ],
             [
              0.7777777777777778,
              "#fb9f3a"
             ],
             [
              0.8888888888888888,
              "#fdca26"
             ],
             [
              1,
              "#f0f921"
             ]
            ],
            "type": "surface"
           }
          ],
          "table": [
           {
            "cells": {
             "fill": {
              "color": "#EBF0F8"
             },
             "line": {
              "color": "white"
             }
            },
            "header": {
             "fill": {
              "color": "#C8D4E3"
             },
             "line": {
              "color": "white"
             }
            },
            "type": "table"
           }
          ]
         },
         "layout": {
          "annotationdefaults": {
           "arrowcolor": "#2a3f5f",
           "arrowhead": 0,
           "arrowwidth": 1
          },
          "autotypenumbers": "strict",
          "coloraxis": {
           "colorbar": {
            "outlinewidth": 0,
            "ticks": ""
           }
          },
          "colorscale": {
           "diverging": [
            [
             0,
             "#8e0152"
            ],
            [
             0.1,
             "#c51b7d"
            ],
            [
             0.2,
             "#de77ae"
            ],
            [
             0.3,
             "#f1b6da"
            ],
            [
             0.4,
             "#fde0ef"
            ],
            [
             0.5,
             "#f7f7f7"
            ],
            [
             0.6,
             "#e6f5d0"
            ],
            [
             0.7,
             "#b8e186"
            ],
            [
             0.8,
             "#7fbc41"
            ],
            [
             0.9,
             "#4d9221"
            ],
            [
             1,
             "#276419"
            ]
           ],
           "sequential": [
            [
             0,
             "#0d0887"
            ],
            [
             0.1111111111111111,
             "#46039f"
            ],
            [
             0.2222222222222222,
             "#7201a8"
            ],
            [
             0.3333333333333333,
             "#9c179e"
            ],
            [
             0.4444444444444444,
             "#bd3786"
            ],
            [
             0.5555555555555556,
             "#d8576b"
            ],
            [
             0.6666666666666666,
             "#ed7953"
            ],
            [
             0.7777777777777778,
             "#fb9f3a"
            ],
            [
             0.8888888888888888,
             "#fdca26"
            ],
            [
             1,
             "#f0f921"
            ]
           ],
           "sequentialminus": [
            [
             0,
             "#0d0887"
            ],
            [
             0.1111111111111111,
             "#46039f"
            ],
            [
             0.2222222222222222,
             "#7201a8"
            ],
            [
             0.3333333333333333,
             "#9c179e"
            ],
            [
             0.4444444444444444,
             "#bd3786"
            ],
            [
             0.5555555555555556,
             "#d8576b"
            ],
            [
             0.6666666666666666,
             "#ed7953"
            ],
            [
             0.7777777777777778,
             "#fb9f3a"
            ],
            [
             0.8888888888888888,
             "#fdca26"
            ],
            [
             1,
             "#f0f921"
            ]
           ]
          },
          "colorway": [
           "#636efa",
           "#EF553B",
           "#00cc96",
           "#ab63fa",
           "#FFA15A",
           "#19d3f3",
           "#FF6692",
           "#B6E880",
           "#FF97FF",
           "#FECB52"
          ],
          "font": {
           "color": "#2a3f5f"
          },
          "geo": {
           "bgcolor": "white",
           "lakecolor": "white",
           "landcolor": "#E5ECF6",
           "showlakes": true,
           "showland": true,
           "subunitcolor": "white"
          },
          "hoverlabel": {
           "align": "left"
          },
          "hovermode": "closest",
          "mapbox": {
           "style": "light"
          },
          "paper_bgcolor": "white",
          "plot_bgcolor": "#E5ECF6",
          "polar": {
           "angularaxis": {
            "gridcolor": "white",
            "linecolor": "white",
            "ticks": ""
           },
           "bgcolor": "#E5ECF6",
           "radialaxis": {
            "gridcolor": "white",
            "linecolor": "white",
            "ticks": ""
           }
          },
          "scene": {
           "xaxis": {
            "backgroundcolor": "#E5ECF6",
            "gridcolor": "white",
            "gridwidth": 2,
            "linecolor": "white",
            "showbackground": true,
            "ticks": "",
            "zerolinecolor": "white"
           },
           "yaxis": {
            "backgroundcolor": "#E5ECF6",
            "gridcolor": "white",
            "gridwidth": 2,
            "linecolor": "white",
            "showbackground": true,
            "ticks": "",
            "zerolinecolor": "white"
           },
           "zaxis": {
            "backgroundcolor": "#E5ECF6",
            "gridcolor": "white",
            "gridwidth": 2,
            "linecolor": "white",
            "showbackground": true,
            "ticks": "",
            "zerolinecolor": "white"
           }
          },
          "shapedefaults": {
           "line": {
            "color": "#2a3f5f"
           }
          },
          "ternary": {
           "aaxis": {
            "gridcolor": "white",
            "linecolor": "white",
            "ticks": ""
           },
           "baxis": {
            "gridcolor": "white",
            "linecolor": "white",
            "ticks": ""
           },
           "bgcolor": "#E5ECF6",
           "caxis": {
            "gridcolor": "white",
            "linecolor": "white",
            "ticks": ""
           }
          },
          "title": {
           "x": 0.05
          },
          "xaxis": {
           "automargin": true,
           "gridcolor": "white",
           "linecolor": "white",
           "ticks": "",
           "title": {
            "standoff": 15
           },
           "zerolinecolor": "white",
           "zerolinewidth": 2
          },
          "yaxis": {
           "automargin": true,
           "gridcolor": "white",
           "linecolor": "white",
           "ticks": "",
           "title": {
            "standoff": 15
           },
           "zerolinecolor": "white",
           "zerolinewidth": 2
          }
         }
        },
        "title": {
         "text": "Ratio"
        },
        "width": 900,
        "xaxis": {
         "fixedrange": true,
         "title": {
          "text": "Group"
         }
        },
        "yaxis": {
         "fixedrange": true,
         "tickformat": "0,.3f",
         "ticksuffix": "  ",
         "title": {
          "text": "Ratio"
         }
        }
       }
      }
     },
     "metadata": {},
     "output_type": "display_data"
    }
   ],
   "source": [
    "solas_auc = sd.custom_disparity_metric(\n",
    "    group_data=valid,\n",
    "    protected_groups=protected_groups,\n",
    "    reference_groups=reference_groups,\n",
    "    group_categories=group_categories,\n",
    "    outcome=valid['Prediction'],\n",
    "    label=valid[label],\n",
    "    metric=metrics.roc_auc_score,\n",
    "    ratio_threshold=lambda x: x < 1.0,\n",
    "    difference_threshold=lambda x: x > 0.01,\n",
    ")\n",
    "solas_auc"
   ]
  },
  {
   "cell_type": "code",
   "execution_count": null,
   "metadata": {},
   "outputs": [],
   "source": [
    "print(f\"AIF360 Relative AUC Calculation for Black-White: {relative_auc_ratio:0.3f}\")"
   ]
  },
  {
   "cell_type": "code",
   "execution_count": null,
   "metadata": {},
   "outputs": [],
   "source": []
  }
 ],
 "metadata": {
  "hide_input": false,
  "kernelspec": {
   "display_name": "cfpb_1",
   "language": "python",
   "name": "python3"
  },
  "language_info": {
   "codemirror_mode": {
    "name": "ipython",
    "version": 3
   },
   "file_extension": ".py",
   "mimetype": "text/x-python",
   "name": "python",
   "nbconvert_exporter": "python",
   "pygments_lexer": "ipython3",
   "version": "3.11.9"
  }
 },
 "nbformat": 4,
 "nbformat_minor": 1
}
